{
 "cells": [
  {
   "cell_type": "code",
   "execution_count": 1,
   "metadata": {},
   "outputs": [
    {
     "name": "stderr",
     "output_type": "stream",
     "text": [
      "/home/divergence/anaconda3/envs/bfPower/lib/python3.10/site-packages/bayesflow/trainers.py:26: TqdmExperimentalWarning: Using `tqdm.autonotebook.tqdm` in notebook mode. Use `tqdm.tqdm` instead to force console mode (e.g. in jupyter console)\n",
      "  from tqdm.autonotebook import tqdm\n"
     ]
    }
   ],
   "source": [
    "import sys\n",
    "sys.path.append(\"../\")\n",
    "sys.path.append(\"../../../assets/diffusion\")\n",
    "\n",
    "# Get rid of annoying tf warning\n",
    "import os\n",
    "os.environ['TF_CPP_MIN_LOG_LEVEL'] = '3' \n",
    "\n",
    "import numpy as np\n",
    "np.set_printoptions(suppress=True)\n",
    "import matplotlib.pyplot as plt\n",
    "import seaborn as sns\n",
    "import tensorflow as tf\n",
    "import bayesflow as beef\n",
    "import pandas as pd\n",
    "import pickle\n",
    "\n",
    "from experiments import RandomWalkDiffusionExperiment\n",
    "from models import RandomWalkDiffusion\n",
    "from configuration import default_num_steps"
   ]
  },
  {
   "cell_type": "code",
   "execution_count": 2,
   "metadata": {},
   "outputs": [],
   "source": [
    "# If set to False, existing results will be loaded\n",
    "# Set to True if you want to re-run the experiments\n",
    "SIMULATE_DATA = False\n",
    "TRAIN_NETWORKS = False\n",
    "FIT_MODEL = False\n",
    "\n",
    "NUM_SIM = 200\n",
    "NUM_STEPS = 400\n",
    "NUM_SAMPLES = 2000"
   ]
  },
  {
   "cell_type": "code",
   "execution_count": 3,
   "metadata": {},
   "outputs": [],
   "source": [
    "PARAM_LABELS = ['Drift rate', 'Threshold', 'Non-decision time']\n",
    "PARAM_NAMES  = [r'$v$', r'$a$', r'$\\tau$']\n",
    "\n",
    "FONT_SIZE_1 = 20\n",
    "FONT_SIZE_2 = 18\n",
    "FONT_SIZE_1 = 16"
   ]
  },
  {
   "cell_type": "code",
   "execution_count": 4,
   "metadata": {},
   "outputs": [
    {
     "name": "stderr",
     "output_type": "stream",
     "text": [
      "INFO:root:Performing 2 pilot runs with the random_walk_diffusion_model model...\n",
      "INFO:root:Shape of parameter batch after 2 pilot simulations: (batch_size = 2, 400, 3)\n",
      "INFO:root:Shape of simulation batch after 2 pilot simulations: (batch_size = 2, 400)\n",
      "INFO:root:Shape of hyper_prior_draws batch after 2 pilot simulations: (batch_size = 2, 3)\n",
      "INFO:root:Shape of local_prior_draws batch after 2 pilot simulations: (batch_size = 2, 400, 3)\n",
      "INFO:root:No shared_prior_draws provided.\n",
      "INFO:root:No optional simulation batchable context provided.\n",
      "INFO:root:No optional simulation non-batchable context provided.\n",
      "INFO:root:No optional prior batchable context provided.\n",
      "INFO:root:No optional prior non-batchable context provided.\n",
      "INFO:root:Loaded loss history from ../../optimal_policy/checkpoints/optimal_policy/history_50.pkl.\n",
      "INFO:root:Networks loaded from ../../optimal_policy/checkpoints/optimal_policy/ckpt-50\n",
      "INFO:root:Performing a consistency check with provided components...\n",
      "INFO:root:Done.\n"
     ]
    }
   ],
   "source": [
    "random_walk_ddm = RandomWalkDiffusion(**default_num_steps)\n",
    "experiment = RandomWalkDiffusionExperiment(random_walk_ddm)"
   ]
  },
  {
   "cell_type": "markdown",
   "metadata": {},
   "source": [
    "## Simulation"
   ]
  },
  {
   "cell_type": "code",
   "execution_count": null,
   "metadata": {},
   "outputs": [],
   "source": [
    "if SIMULATE_DATA:\n",
    "    from models import StaticDiffusion, StationaryDiffusion, RegimeSwitchingDiffusion\n",
    "    static_ddm = StaticDiffusion()\n",
    "    stationary_ddm = StationaryDiffusion()\n",
    "    regime_switching_ddm = RegimeSwitchingDiffusion()\n",
    "    static_ddm_sim = static_ddm.generate(NUM_SIM)\n",
    "    stationary_ddm_sim = stationary_ddm.generate(NUM_SIM)\n",
    "    random_walk_ddm_sim = random_walk_ddm.generate(NUM_SIM)\n",
    "    regime_switching_ddm_sim = regime_switching_ddm.generate(NUM_SIM)\n",
    "    with open('../data/static_ddm_sim_200.pkl', 'wb') as f:\n",
    "        pickle.dump(static_ddm_sim, f)\n",
    "    with open('../data/stationary_ddm_sim_200.pkl', 'wb') as f:\n",
    "        pickle.dump(stationary_ddm_sim, f)\n",
    "    with open('../data/random_walk_ddm_sim_200.pkl', 'wb') as f:\n",
    "        pickle.dump(random_walk_ddm_sim, f)\n",
    "    with open('../data/regime_switching_ddm_sim_200.pkl', 'wb') as f:\n",
    "        pickle.dump(regime_switching_ddm_sim, f)\n",
    "else:\n",
    "    with open('../data/static_ddm_sim_200.pkl', 'rb') as f:\n",
    "        static_ddm_sim = pickle.load(f)\n",
    "    with open('../data/stationary_ddm_sim_200.pkl', 'rb') as f:\n",
    "        stationary_ddm_sim = pickle.load(f)\n",
    "    with open('../data/random_walk_ddm_sim_200.pkl', 'rb') as f:\n",
    "        random_walk_ddm_sim = pickle.load(f)\n",
    "    with open('../data/regime_switching_ddm_sim_200.pkl', 'rb') as f:\n",
    "        regime_switching_ddm_sim = pickle.load(f)"
   ]
  },
  {
   "cell_type": "markdown",
   "metadata": {},
   "source": [
    "## Training"
   ]
  },
  {
   "cell_type": "code",
   "execution_count": null,
   "metadata": {},
   "outputs": [],
   "source": [
    "if TRAIN_NETWORKS:\n",
    "    history = experiment.run(\n",
    "        epochs=50, \n",
    "        iterations_per_epoch=1000, \n",
    "        batch_size=8\n",
    "    )\n",
    "else:\n",
    "    history = experiment.trainer.loss_history.get_plottable()"
   ]
  },
  {
   "cell_type": "code",
   "execution_count": null,
   "metadata": {},
   "outputs": [],
   "source": [
    "f = beef.diagnostics.plot_losses(history)"
   ]
  },
  {
   "cell_type": "markdown",
   "metadata": {},
   "source": [
    "## Evaluation"
   ]
  },
  {
   "cell_type": "code",
   "execution_count": null,
   "metadata": {},
   "outputs": [],
   "source": [
    "with tf.device('/cpu:0'):\n",
    "    if FIT_MODEL:\n",
    "        local_post_static = np.zeros((NUM_SIM, NUM_STEPS, NUM_SAMPLES, 3))\n",
    "        global_post_static = np.zeros((NUM_SIM, NUM_SAMPLES, 3))\n",
    "        local_post_stationary = np.zeros((NUM_SIM, NUM_STEPS, NUM_SAMPLES, 3))\n",
    "        global_post_stationary = np.zeros((NUM_SIM, NUM_SAMPLES, 3))\n",
    "        local_post_random_walk = np.zeros((NUM_SIM, NUM_STEPS, NUM_SAMPLES, 3))\n",
    "        global_post_random_walk = np.zeros((NUM_SIM, NUM_SAMPLES, 3))\n",
    "        local_post_regime_switching = np.zeros((NUM_SIM, NUM_STEPS, NUM_SAMPLES, 3))\n",
    "        global_post_regime_switching = np.zeros((NUM_SIM, NUM_SAMPLES, 3))\n",
    "\n",
    "\n",
    "        for sim in range(NUM_SIM):\n",
    "            # static ddm\n",
    "            post_samples = experiment.amortizer.sample(\n",
    "                {'summary_conditions': static_ddm_sim['sim_data'][sim:sim+1, :, None]},\n",
    "                NUM_SAMPLES\n",
    "            )\n",
    "            local_post_static[sim] = post_samples['local_samples']\n",
    "            global_post_static[sim] = post_samples['global_samples']\n",
    "            # stationary ddm\n",
    "            post_samples = experiment.amortizer.sample(\n",
    "                {'summary_conditions': stationary_ddm_sim['sim_data'][sim:sim+1, :, None]},\n",
    "                NUM_SAMPLES\n",
    "            )\n",
    "            local_post_stationary[sim] = post_samples['local_samples']\n",
    "            global_post_stationary[sim] = post_samples['global_samples']\n",
    "            # random walk ddm\n",
    "            post_samples = experiment.amortizer.sample(\n",
    "                {'summary_conditions': random_walk_ddm_sim['sim_data'][sim:sim+1, :, None]},\n",
    "                NUM_SAMPLES\n",
    "            )\n",
    "            local_post_random_walk[sim] = post_samples['local_samples']\n",
    "            global_post_random_walk[sim] = post_samples['global_samples']\n",
    "            # regime switching ddm\n",
    "            post_samples = experiment.amortizer.sample(\n",
    "                {'summary_conditions': regime_switching_ddm_sim['sim_data'][sim:sim+1, :, None]},\n",
    "                NUM_SAMPLES\n",
    "            )\n",
    "            local_post_regime_switching[sim] = post_samples['local_samples']\n",
    "            global_post_regime_switching[sim] = post_samples['global_samples']\n",
    "\n",
    "            print(sim)\n",
    "            \n",
    "        np.save('../data/local_post_static.npy', local_post_static)\n",
    "        np.save('../data/global_post_static.npy', global_post_static)\n",
    "        np.save('../data/local_post_stationary.npy', local_post_stationary)\n",
    "        np.save('../data/global_post_stationary.npy', global_post_stationary)\n",
    "        np.save('../data/local_post_random_walk.npy', local_post_random_walk)\n",
    "        np.save('../data/global_post_random_walk.npy', global_post_random_walk)\n",
    "        np.save('../data/local_post_regime_switching.npy', local_post_regime_switching)\n",
    "        np.save('../data/global_post_regime_switching.npy', global_post_regime_switching)\n",
    "\n",
    "    else:\n",
    "        local_post_static = np.load('../data/local_post_static.npy')\n",
    "        global_post_static = np.load('../data/global_post_static.npy')\n",
    "        local_post_stationary = np.load('../data/local_post_stationary.npy')\n",
    "        global_post_stationary = np.load('../data/global_post_stationary.npy')\n",
    "        local_post_random_walk = np.load('../data/local_post_random_walk.npy')\n",
    "        global_post_random_walk = np.load('../data/global_post_random_walk.npy')\n",
    "        local_post_regime_switching = np.load('../data/local_post_regime_switching.npy')\n",
    "        global_post_regime_switching = np.load('../data/global_post_regime_switching.npy')\n",
    "        "
   ]
  },
  {
   "cell_type": "code",
   "execution_count": null,
   "metadata": {},
   "outputs": [],
   "source": []
  },
  {
   "cell_type": "code",
   "execution_count": null,
   "metadata": {},
   "outputs": [],
   "source": []
  },
  {
   "cell_type": "code",
   "execution_count": null,
   "metadata": {},
   "outputs": [],
   "source": [
    "post_samples['local_samples'].shape"
   ]
  },
  {
   "cell_type": "code",
   "execution_count": null,
   "metadata": {},
   "outputs": [],
   "source": [
    "post_samples_not_z = post_samples['local_samples'] * random_walk_ddm.local_prior_stds + random_walk_ddm.local_prior_means\n",
    "post_means = post_samples_not_z.mean(axis=1)\n",
    "post_stds = post_samples_not_z.std(axis=1)"
   ]
  },
  {
   "cell_type": "code",
   "execution_count": null,
   "metadata": {},
   "outputs": [],
   "source": [
    "true_params = regime_switching_ddm_sim['prior_draws'][0]"
   ]
  },
  {
   "cell_type": "code",
   "execution_count": null,
   "metadata": {},
   "outputs": [],
   "source": [
    "f, axarr = plt.subplots(3, 1, figsize=(20, 16))\n",
    "for i, ax in enumerate(axarr.flat):\n",
    "    ax.plot(\n",
    "        np.arange(post_means.shape[0]), post_means[:, i],\n",
    "        color = \"maroon\"\n",
    "    )\n",
    "    ax.fill_between(\n",
    "        np.arange(post_means.shape[0]),\n",
    "        post_means[:, i] - post_stds[:, i],\n",
    "        post_means[:, i] + post_stds[:, i],\n",
    "        alpha = 0.5,\n",
    "        color = \"maroon\"\n",
    "    )\n",
    "\n",
    "    ax.plot(\n",
    "        np.arange(true_params.shape[0]), true_params[:, i],\n",
    "        color = \"black\"\n",
    "    )\n",
    "\n",
    "    ax.set_xlim([0, post_means.shape[0]])\n",
    "    ax.set_title(PARAM_LABELS[i] + ' ({})'.format(PARAM_NAMES[i]), fontsize=20)\n",
    "    if i == 0:\n",
    "        ax.set_xlabel('Time', fontsize=18)\n",
    "        ax.set_ylabel(\"Parameter value\", fontsize=18)\n",
    "\n",
    "    ax.set_title(PARAM_LABELS[i] + ' ({})'.format(PARAM_NAMES[i]), fontsize=20)\n",
    "    ax.tick_params(axis='both', which='major', labelsize=16)\n",
    "    \n",
    "sns.despine()\n",
    "f.tight_layout()"
   ]
  },
  {
   "cell_type": "code",
   "execution_count": null,
   "metadata": {},
   "outputs": [],
   "source": [
    "# post_samples = np.zeros((N_SUBS, N_OBS, N_SAMPLES, 3))\n",
    "# with tf.device('/cpu:0'):\n",
    "#     for i in range(N_SUBS):\n",
    "#         tmp_data = {'summary_conditions': emp_data[i:i+1]}\n",
    "#         samples = amortizer.sample(tmp_data, N_SAMPLES)\n",
    "#         post_samples[i] = samples['local_samples']\n",
    "\n",
    "# post_samples.shape"
   ]
  }
 ],
 "metadata": {
  "kernelspec": {
   "display_name": "Python 3 (ipykernel)",
   "language": "python",
   "name": "python3"
  },
  "language_info": {
   "codemirror_mode": {
    "name": "ipython",
    "version": 3
   },
   "file_extension": ".py",
   "mimetype": "text/x-python",
   "name": "python",
   "nbconvert_exporter": "python",
   "pygments_lexer": "ipython3",
   "version": "3.10.11"
  }
 },
 "nbformat": 4,
 "nbformat_minor": 2
}
