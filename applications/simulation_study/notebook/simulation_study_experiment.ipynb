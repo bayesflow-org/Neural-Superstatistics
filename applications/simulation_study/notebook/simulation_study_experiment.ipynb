{
 "cells": [
  {
   "cell_type": "code",
   "execution_count": null,
   "metadata": {},
   "outputs": [],
   "source": [
    "import sys\n",
    "sys.path.append(\"../\")\n",
    "sys.path.append(\"../../../assets/diffusion\")\n",
    "\n",
    "# Get rid of annoying tf warning\n",
    "import os\n",
    "os.environ['TF_CPP_MIN_LOG_LEVEL'] = '3' \n",
    "\n",
    "\n",
    "\n",
    "import numpy as np\n",
    "np.set_printoptions(suppress=True)\n",
    "import matplotlib.pyplot as plt\n",
    "import seaborn as sns\n",
    "import tensorflow as tf\n",
    "import bayesflow as beef\n",
    "import pandas as pd\n",
    "import pickle\n",
    "\n",
    "from experiments import RandomWalkDiffusionExperiment\n",
    "from models import StaticDiffusion, StationaryDiffusion, RandomWalkDiffusion, RegimeSwitchingDiffusion"
   ]
  },
  {
   "cell_type": "code",
   "execution_count": null,
   "metadata": {},
   "outputs": [],
   "source": [
    "# If set to False, existing results will be loaded\n",
    "# Set to True if you want to re-run the experiments\n",
    "SIMULATE_DATA = True\n",
    "TRAIN_NETWORKS = False"
   ]
  },
  {
   "cell_type": "code",
   "execution_count": null,
   "metadata": {},
   "outputs": [],
   "source": [
    "random_walk_ddm = RandomWalkDiffusion()\n",
    "experiment = RandomWalkDiffusionExperiment(random_walk_ddm)"
   ]
  },
  {
   "attachments": {},
   "cell_type": "markdown",
   "metadata": {},
   "source": [
    "## Simulation"
   ]
  },
  {
   "cell_type": "code",
   "execution_count": null,
   "metadata": {},
   "outputs": [],
   "source": [
    "static_ddm = StaticDiffusion()\n",
    "stationary_ddm = StationaryDiffusion()\n",
    "# regime_switching_ddm = RegimeSwitchingDiffusion()"
   ]
  },
  {
   "cell_type": "code",
   "execution_count": null,
   "metadata": {},
   "outputs": [],
   "source": [
    "if SIMULATE_DATA:\n",
    "    static_ddm_sim = static_ddm.generate(200)\n",
    "    stationary_ddm_sim = stationary_ddm.generate(200)\n",
    "    random_walk_ddm_sim = random_walk_ddm.generate(200)\n",
    "    # regime_switching_ddm_sim = regime_switching_ddm.generate(200)\n",
    "    with open('../data/static_ddm_sim_200.pkl', 'wb') as f:\n",
    "        pickle.dump(static_ddm_sim, f)\n",
    "    with open('../data/stationary_ddm_sim_200.pkl', 'wb') as f:\n",
    "        pickle.dump(stationary_ddm_sim, f)\n",
    "    with open('../data/random_walk_ddm_sim_200.pkl', 'wb') as f:\n",
    "        pickle.dump(random_walk_ddm_sim, f)\n",
    "    # with open('../data/regime_switching_ddm_sim_200.pkl', 'wb') as f:\n",
    "    #     pickle.dump(regime_switching_ddm_sim, f)\n",
    "else:\n",
    "    with open('../data/static_ddm_sim_200.pkl', 'rb') as f:\n",
    "        static_ddm_sim = pickle.load(f)\n",
    "    with open('../data/stationary_ddm_sim_200.pkl', 'rb') as f:\n",
    "        stationary_ddm_sim = pickle.load(f)\n",
    "    with open('../data/random_walk_ddm_sim_200.pkl', 'rb') as f:\n",
    "        random_walk_ddm_sim = pickle.load(f)\n",
    "    # with open('../data/regime_switching_ddm_sim_200.pkl', 'rb') as f:\n",
    "    #     regime_switching_ddm_sim = pickle.load(f)\n",
    "    "
   ]
  },
  {
   "cell_type": "code",
   "execution_count": null,
   "metadata": {},
   "outputs": [],
   "source": []
  },
  {
   "cell_type": "code",
   "execution_count": null,
   "metadata": {},
   "outputs": [],
   "source": [
    "static_ddm_sim.keys()"
   ]
  },
  {
   "attachments": {},
   "cell_type": "markdown",
   "metadata": {},
   "source": [
    "## Training"
   ]
  },
  {
   "cell_type": "code",
   "execution_count": null,
   "metadata": {},
   "outputs": [],
   "source": [
    "if TRAIN_NETWORKS:\n",
    "    history = experiment.run(\n",
    "        epochs=50, \n",
    "        iterations_per_epoch=1000, \n",
    "        batch_size=8\n",
    "    )\n",
    "else:\n",
    "    history = experiment.trainer.loss_history.get_plottable()"
   ]
  },
  {
   "cell_type": "code",
   "execution_count": null,
   "metadata": {},
   "outputs": [],
   "source": [
    "f = beef.diagnostics.plot_losses(history)"
   ]
  },
  {
   "attachments": {},
   "cell_type": "markdown",
   "metadata": {},
   "source": [
    "## Evaluation"
   ]
  },
  {
   "cell_type": "code",
   "execution_count": null,
   "metadata": {},
   "outputs": [],
   "source": []
  }
 ],
 "metadata": {
  "kernelspec": {
   "display_name": "bfPower",
   "language": "python",
   "name": "python3"
  },
  "language_info": {
   "codemirror_mode": {
    "name": "ipython",
    "version": 3
   },
   "file_extension": ".py",
   "mimetype": "text/x-python",
   "name": "python",
   "nbconvert_exporter": "python",
   "pygments_lexer": "ipython3",
   "version": "3.10.10"
  },
  "orig_nbformat": 4
 },
 "nbformat": 4,
 "nbformat_minor": 2
}
