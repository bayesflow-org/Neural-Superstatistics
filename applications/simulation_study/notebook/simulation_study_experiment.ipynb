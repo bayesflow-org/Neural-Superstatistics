{
 "cells": [
  {
   "cell_type": "code",
   "execution_count": 1,
   "metadata": {},
   "outputs": [
    {
     "name": "stderr",
     "output_type": "stream",
     "text": [
      "/home/divergence/anaconda3/envs/bfPower/lib/python3.10/site-packages/bayesflow/trainers.py:26: TqdmExperimentalWarning: Using `tqdm.autonotebook.tqdm` in notebook mode. Use `tqdm.tqdm` instead to force console mode (e.g. in jupyter console)\n",
      "  from tqdm.autonotebook import tqdm\n"
     ]
    }
   ],
   "source": [
    "import sys\n",
    "sys.path.append(\"../\")\n",
    "sys.path.append(\"../../../assets\")\n",
    "\n",
    "\n",
    "# Get rid of annoying tf warning\n",
    "import os\n",
    "os.environ['TF_CPP_MIN_LOG_LEVEL'] = '3' \n",
    "\n",
    "import numpy as np\n",
    "np.set_printoptions(suppress=True)\n",
    "import matplotlib.pyplot as plt\n",
    "import seaborn as sns\n",
    "import tensorflow as tf\n",
    "import bayesflow as beef\n",
    "import pickle\n",
    "\n",
    "from experiments import RandomWalkDiffusionExperiment\n",
    "from diffusion.models import RandomWalkDiffusion\n",
    "from configuration import default_num_steps"
   ]
  },
  {
   "cell_type": "code",
   "execution_count": 2,
   "metadata": {},
   "outputs": [],
   "source": [
    "# If set to False, existing results will be loaded\n",
    "# Set to True if you want to re-run the experiments\n",
    "SIMULATE_DATA = True\n",
    "TRAIN_NETWORKS = True\n",
    "FIT_MODEL = True\n",
    "\n",
    "NUM_SIM = 200\n",
    "NUM_STEPS = 400\n",
    "NUM_SAMPLES = 2000\n",
    "\n",
    "NEURAL_COLOR = '#852626'\n",
    "COMPARISON_COLOR = '#133a76'\n",
    "ALPHA = 0.6\n",
    "PARAM_LABELS = ['Drift rate', 'Threshold', 'Non-decision time']\n",
    "PARAM_NAMES  = [r'$v$', r'$a$', r'$\\tau$']\n",
    "\n",
    "FONT_SIZE_1 = 20\n",
    "FONT_SIZE_2 = 18\n",
    "FONT_SIZE_3 = 16\n",
    "\n",
    "import matplotlib\n",
    "matplotlib.rcParams['font.sans-serif'] = \"Palatino\"\n",
    "matplotlib.rcParams['font.family'] = \"sans-serif\""
   ]
  },
  {
   "cell_type": "code",
   "execution_count": 3,
   "metadata": {},
   "outputs": [
    {
     "name": "stderr",
     "output_type": "stream",
     "text": [
      "INFO:root:Performing 2 pilot runs with the random_walk_diffusion_model model...\n",
      "INFO:root:Shape of parameter batch after 2 pilot simulations: (batch_size = 2, 400, 3)\n",
      "INFO:root:Shape of simulation batch after 2 pilot simulations: (batch_size = 2, 400)\n",
      "INFO:root:Shape of hyper_prior_draws batch after 2 pilot simulations: (batch_size = 2, 3)\n",
      "INFO:root:Shape of local_prior_draws batch after 2 pilot simulations: (batch_size = 2, 400, 3)\n",
      "INFO:root:No shared_prior_draws provided.\n",
      "INFO:root:No optional simulation batchable context provided.\n",
      "INFO:root:No optional simulation non-batchable context provided.\n",
      "INFO:root:No optional prior batchable context provided.\n",
      "INFO:root:No optional prior non-batchable context provided.\n",
      "INFO:root:Initialized empty loss history.\n",
      "INFO:root:Initialized networks from scratch.\n",
      "INFO:root:Performing a consistency check with provided components...\n",
      "INFO:root:Done.\n"
     ]
    }
   ],
   "source": [
    "random_walk_ddm = RandomWalkDiffusion(num_steps=default_num_steps)\n",
    "experiment = RandomWalkDiffusionExperiment(random_walk_ddm)"
   ]
  },
  {
   "cell_type": "markdown",
   "metadata": {},
   "source": [
    "## Simulation"
   ]
  },
  {
   "cell_type": "code",
   "execution_count": 4,
   "metadata": {},
   "outputs": [
    {
     "name": "stderr",
     "output_type": "stream",
     "text": [
      "INFO:root:Performing 2 pilot runs with the static_diffusion_model model...\n",
      "INFO:root:Shape of parameter batch after 2 pilot simulations: (batch_size = 2, 3)\n",
      "INFO:root:Shape of simulation batch after 2 pilot simulations: (batch_size = 2, 400)\n",
      "INFO:root:No optional prior non-batchable context provided.\n",
      "INFO:root:No optional prior batchable context provided.\n",
      "INFO:root:No optional simulation non-batchable context provided.\n",
      "INFO:root:No optional simulation batchable context provided.\n",
      "INFO:root:Performing 2 pilot runs with the stationary_diffusion_model model...\n",
      "INFO:root:Shape of parameter batch after 2 pilot simulations: (batch_size = 2, 6)\n",
      "INFO:root:Shape of simulation batch after 2 pilot simulations: (batch_size = 2, 400)\n",
      "INFO:root:No optional prior non-batchable context provided.\n",
      "INFO:root:No optional prior batchable context provided.\n",
      "INFO:root:No optional simulation non-batchable context provided.\n",
      "INFO:root:No optional simulation batchable context provided.\n",
      "INFO:root:Performing 2 pilot runs with the regime_switching_diffusion_model model...\n",
      "INFO:root:Shape of parameter batch after 2 pilot simulations: (batch_size = 2, 400, 3)\n",
      "INFO:root:Shape of simulation batch after 2 pilot simulations: (batch_size = 2, 400)\n",
      "INFO:root:No optional prior non-batchable context provided.\n",
      "INFO:root:No optional prior batchable context provided.\n",
      "INFO:root:No optional simulation non-batchable context provided.\n",
      "INFO:root:No optional simulation batchable context provided.\n"
     ]
    }
   ],
   "source": [
    "if SIMULATE_DATA:\n",
    "    from diffusion.models import StaticDiffusion, StationaryDiffusion, RegimeSwitchingDiffusion\n",
    "    static_ddm = StaticDiffusion()\n",
    "    stationary_ddm = StationaryDiffusion()\n",
    "    regime_switching_ddm = RegimeSwitchingDiffusion()\n",
    "    static_ddm_sim = static_ddm.generate(NUM_SIM)\n",
    "    stationary_ddm_sim = stationary_ddm.generate(NUM_SIM)\n",
    "    random_walk_ddm_sim = random_walk_ddm.generate(NUM_SIM)\n",
    "    regime_switching_ddm_sim = regime_switching_ddm.generate(NUM_SIM)\n",
    "    with open('../data/static_ddm_sim_200.pkl', 'wb') as f:\n",
    "        pickle.dump(static_ddm_sim, f)\n",
    "    with open('../data/stationary_ddm_sim_200.pkl', 'wb') as f:\n",
    "        pickle.dump(stationary_ddm_sim, f)\n",
    "    with open('../data/random_walk_ddm_sim_200.pkl', 'wb') as f:\n",
    "        pickle.dump(random_walk_ddm_sim, f)\n",
    "    with open('../data/regime_switching_ddm_sim_200.pkl', 'wb') as f:\n",
    "        pickle.dump(regime_switching_ddm_sim, f)\n",
    "else:\n",
    "    with open('../data/static_ddm_sim_200.pkl', 'rb') as f:\n",
    "        static_ddm_sim = pickle.load(f)\n",
    "    with open('../data/stationary_ddm_sim_200.pkl', 'rb') as f:\n",
    "        stationary_ddm_sim = pickle.load(f)\n",
    "    with open('../data/random_walk_ddm_sim_200.pkl', 'rb') as f:\n",
    "        random_walk_ddm_sim = pickle.load(f)\n",
    "    with open('../data/regime_switching_ddm_sim_200.pkl', 'rb') as f:\n",
    "        regime_switching_ddm_sim = pickle.load(f)"
   ]
  },
  {
   "cell_type": "markdown",
   "metadata": {},
   "source": [
    "## Training"
   ]
  },
  {
   "cell_type": "code",
   "execution_count": 5,
   "metadata": {},
   "outputs": [
    {
     "data": {
      "application/vnd.jupyter.widget-view+json": {
       "model_id": "feea438830aa4f4183a95bf79b1db0ce",
       "version_major": 2,
       "version_minor": 0
      },
      "text/plain": [
       "Training epoch 1:   0%|          | 0/1000 [00:00<?, ?it/s]"
      ]
     },
     "metadata": {},
     "output_type": "display_data"
    },
    {
     "data": {
      "application/vnd.jupyter.widget-view+json": {
       "model_id": "b002c8be19734fab9a9787db3e33366d",
       "version_major": 2,
       "version_minor": 0
      },
      "text/plain": [
       "Training epoch 2:   0%|          | 0/1000 [00:00<?, ?it/s]"
      ]
     },
     "metadata": {},
     "output_type": "display_data"
    },
    {
     "data": {
      "application/vnd.jupyter.widget-view+json": {
       "model_id": "59ac2af4d3c14250b57c476f7cbe98f6",
       "version_major": 2,
       "version_minor": 0
      },
      "text/plain": [
       "Training epoch 3:   0%|          | 0/1000 [00:00<?, ?it/s]"
      ]
     },
     "metadata": {},
     "output_type": "display_data"
    },
    {
     "data": {
      "application/vnd.jupyter.widget-view+json": {
       "model_id": "3a5a24431e5e4bb3b6e2e57d3de82520",
       "version_major": 2,
       "version_minor": 0
      },
      "text/plain": [
       "Training epoch 4:   0%|          | 0/1000 [00:00<?, ?it/s]"
      ]
     },
     "metadata": {},
     "output_type": "display_data"
    },
    {
     "data": {
      "application/vnd.jupyter.widget-view+json": {
       "model_id": "a0c12157d6a948d284b36d367599fa25",
       "version_major": 2,
       "version_minor": 0
      },
      "text/plain": [
       "Training epoch 5:   0%|          | 0/1000 [00:00<?, ?it/s]"
      ]
     },
     "metadata": {},
     "output_type": "display_data"
    },
    {
     "data": {
      "application/vnd.jupyter.widget-view+json": {
       "model_id": "68f6837853504cfd8182aa25ca4fb49c",
       "version_major": 2,
       "version_minor": 0
      },
      "text/plain": [
       "Training epoch 6:   0%|          | 0/1000 [00:00<?, ?it/s]"
      ]
     },
     "metadata": {},
     "output_type": "display_data"
    },
    {
     "data": {
      "application/vnd.jupyter.widget-view+json": {
       "model_id": "5d7dd11e342a49ff8d8b95ed34031d1a",
       "version_major": 2,
       "version_minor": 0
      },
      "text/plain": [
       "Training epoch 7:   0%|          | 0/1000 [00:00<?, ?it/s]"
      ]
     },
     "metadata": {},
     "output_type": "display_data"
    },
    {
     "data": {
      "application/vnd.jupyter.widget-view+json": {
       "model_id": "590d72e830b747c29a45da69fd5c5057",
       "version_major": 2,
       "version_minor": 0
      },
      "text/plain": [
       "Training epoch 8:   0%|          | 0/1000 [00:00<?, ?it/s]"
      ]
     },
     "metadata": {},
     "output_type": "display_data"
    },
    {
     "data": {
      "application/vnd.jupyter.widget-view+json": {
       "model_id": "d8a82648f066460991edfc7a336a84b9",
       "version_major": 2,
       "version_minor": 0
      },
      "text/plain": [
       "Training epoch 9:   0%|          | 0/1000 [00:00<?, ?it/s]"
      ]
     },
     "metadata": {},
     "output_type": "display_data"
    },
    {
     "data": {
      "application/vnd.jupyter.widget-view+json": {
       "model_id": "2900db13b608462aaa4c4f40d9e4e825",
       "version_major": 2,
       "version_minor": 0
      },
      "text/plain": [
       "Training epoch 10:   0%|          | 0/1000 [00:00<?, ?it/s]"
      ]
     },
     "metadata": {},
     "output_type": "display_data"
    },
    {
     "data": {
      "application/vnd.jupyter.widget-view+json": {
       "model_id": "0128ece42cab4a349a6b30b087c1c8ba",
       "version_major": 2,
       "version_minor": 0
      },
      "text/plain": [
       "Training epoch 11:   0%|          | 0/1000 [00:00<?, ?it/s]"
      ]
     },
     "metadata": {},
     "output_type": "display_data"
    },
    {
     "data": {
      "application/vnd.jupyter.widget-view+json": {
       "model_id": "48224d97c8474b3da85471d393e558b0",
       "version_major": 2,
       "version_minor": 0
      },
      "text/plain": [
       "Training epoch 12:   0%|          | 0/1000 [00:00<?, ?it/s]"
      ]
     },
     "metadata": {},
     "output_type": "display_data"
    },
    {
     "data": {
      "application/vnd.jupyter.widget-view+json": {
       "model_id": "ab64d577c1b84beebd3ca90cac999dd5",
       "version_major": 2,
       "version_minor": 0
      },
      "text/plain": [
       "Training epoch 13:   0%|          | 0/1000 [00:00<?, ?it/s]"
      ]
     },
     "metadata": {},
     "output_type": "display_data"
    },
    {
     "data": {
      "application/vnd.jupyter.widget-view+json": {
       "model_id": "6cafc08c5da6449ca2ed26879c0b7631",
       "version_major": 2,
       "version_minor": 0
      },
      "text/plain": [
       "Training epoch 14:   0%|          | 0/1000 [00:00<?, ?it/s]"
      ]
     },
     "metadata": {},
     "output_type": "display_data"
    },
    {
     "data": {
      "application/vnd.jupyter.widget-view+json": {
       "model_id": "02d41e6f67d242a6b0f9b200a4dcc519",
       "version_major": 2,
       "version_minor": 0
      },
      "text/plain": [
       "Training epoch 15:   0%|          | 0/1000 [00:00<?, ?it/s]"
      ]
     },
     "metadata": {},
     "output_type": "display_data"
    },
    {
     "data": {
      "application/vnd.jupyter.widget-view+json": {
       "model_id": "d763984101684cfcb4d8d701316400cb",
       "version_major": 2,
       "version_minor": 0
      },
      "text/plain": [
       "Training epoch 16:   0%|          | 0/1000 [00:00<?, ?it/s]"
      ]
     },
     "metadata": {},
     "output_type": "display_data"
    },
    {
     "data": {
      "application/vnd.jupyter.widget-view+json": {
       "model_id": "3df822814a2e49ea9b57cf9fcab94209",
       "version_major": 2,
       "version_minor": 0
      },
      "text/plain": [
       "Training epoch 17:   0%|          | 0/1000 [00:00<?, ?it/s]"
      ]
     },
     "metadata": {},
     "output_type": "display_data"
    },
    {
     "data": {
      "application/vnd.jupyter.widget-view+json": {
       "model_id": "9a2aee1fe8a949b48a488d389f8c917c",
       "version_major": 2,
       "version_minor": 0
      },
      "text/plain": [
       "Training epoch 18:   0%|          | 0/1000 [00:00<?, ?it/s]"
      ]
     },
     "metadata": {},
     "output_type": "display_data"
    },
    {
     "data": {
      "application/vnd.jupyter.widget-view+json": {
       "model_id": "a965b63efbba4c1585340efa79e38397",
       "version_major": 2,
       "version_minor": 0
      },
      "text/plain": [
       "Training epoch 19:   0%|          | 0/1000 [00:00<?, ?it/s]"
      ]
     },
     "metadata": {},
     "output_type": "display_data"
    },
    {
     "data": {
      "application/vnd.jupyter.widget-view+json": {
       "model_id": "49c5d65a01444987b35f18231c6549f1",
       "version_major": 2,
       "version_minor": 0
      },
      "text/plain": [
       "Training epoch 20:   0%|          | 0/1000 [00:00<?, ?it/s]"
      ]
     },
     "metadata": {},
     "output_type": "display_data"
    },
    {
     "data": {
      "application/vnd.jupyter.widget-view+json": {
       "model_id": "04588d18f00e425e9a7efb0d0bd67381",
       "version_major": 2,
       "version_minor": 0
      },
      "text/plain": [
       "Training epoch 21:   0%|          | 0/1000 [00:00<?, ?it/s]"
      ]
     },
     "metadata": {},
     "output_type": "display_data"
    },
    {
     "data": {
      "application/vnd.jupyter.widget-view+json": {
       "model_id": "5a2ecb7dc41145b6a1dfd01c38b334ae",
       "version_major": 2,
       "version_minor": 0
      },
      "text/plain": [
       "Training epoch 22:   0%|          | 0/1000 [00:00<?, ?it/s]"
      ]
     },
     "metadata": {},
     "output_type": "display_data"
    },
    {
     "data": {
      "application/vnd.jupyter.widget-view+json": {
       "model_id": "f962b44eaef4400eaaefce0f2f69b093",
       "version_major": 2,
       "version_minor": 0
      },
      "text/plain": [
       "Training epoch 23:   0%|          | 0/1000 [00:00<?, ?it/s]"
      ]
     },
     "metadata": {},
     "output_type": "display_data"
    },
    {
     "data": {
      "application/vnd.jupyter.widget-view+json": {
       "model_id": "2b7fab2393484c5aa3ce8fd10e786a53",
       "version_major": 2,
       "version_minor": 0
      },
      "text/plain": [
       "Training epoch 24:   0%|          | 0/1000 [00:00<?, ?it/s]"
      ]
     },
     "metadata": {},
     "output_type": "display_data"
    },
    {
     "data": {
      "application/vnd.jupyter.widget-view+json": {
       "model_id": "397a51cb08e945aba6ed0de3ed78312e",
       "version_major": 2,
       "version_minor": 0
      },
      "text/plain": [
       "Training epoch 25:   0%|          | 0/1000 [00:00<?, ?it/s]"
      ]
     },
     "metadata": {},
     "output_type": "display_data"
    },
    {
     "data": {
      "application/vnd.jupyter.widget-view+json": {
       "model_id": "320f7a03ca2f47d9bd5d08306e529d74",
       "version_major": 2,
       "version_minor": 0
      },
      "text/plain": [
       "Training epoch 26:   0%|          | 0/1000 [00:00<?, ?it/s]"
      ]
     },
     "metadata": {},
     "output_type": "display_data"
    },
    {
     "data": {
      "application/vnd.jupyter.widget-view+json": {
       "model_id": "c84cd7bf89a44b8ebee778d2493aa46c",
       "version_major": 2,
       "version_minor": 0
      },
      "text/plain": [
       "Training epoch 27:   0%|          | 0/1000 [00:00<?, ?it/s]"
      ]
     },
     "metadata": {},
     "output_type": "display_data"
    },
    {
     "data": {
      "application/vnd.jupyter.widget-view+json": {
       "model_id": "69846f15552045c2a01ed5eec9938203",
       "version_major": 2,
       "version_minor": 0
      },
      "text/plain": [
       "Training epoch 28:   0%|          | 0/1000 [00:00<?, ?it/s]"
      ]
     },
     "metadata": {},
     "output_type": "display_data"
    },
    {
     "data": {
      "application/vnd.jupyter.widget-view+json": {
       "model_id": "a1b9b34a2a904ead80e69d059c7343f2",
       "version_major": 2,
       "version_minor": 0
      },
      "text/plain": [
       "Training epoch 29:   0%|          | 0/1000 [00:00<?, ?it/s]"
      ]
     },
     "metadata": {},
     "output_type": "display_data"
    },
    {
     "data": {
      "application/vnd.jupyter.widget-view+json": {
       "model_id": "bed82059627c481eb303dae72e0c4f38",
       "version_major": 2,
       "version_minor": 0
      },
      "text/plain": [
       "Training epoch 30:   0%|          | 0/1000 [00:00<?, ?it/s]"
      ]
     },
     "metadata": {},
     "output_type": "display_data"
    },
    {
     "data": {
      "application/vnd.jupyter.widget-view+json": {
       "model_id": "bec3815ea49e4611ad75e3b075a794dc",
       "version_major": 2,
       "version_minor": 0
      },
      "text/plain": [
       "Training epoch 31:   0%|          | 0/1000 [00:00<?, ?it/s]"
      ]
     },
     "metadata": {},
     "output_type": "display_data"
    },
    {
     "data": {
      "application/vnd.jupyter.widget-view+json": {
       "model_id": "c8120dab1f1b4ba584561f02724f1e06",
       "version_major": 2,
       "version_minor": 0
      },
      "text/plain": [
       "Training epoch 32:   0%|          | 0/1000 [00:00<?, ?it/s]"
      ]
     },
     "metadata": {},
     "output_type": "display_data"
    },
    {
     "data": {
      "application/vnd.jupyter.widget-view+json": {
       "model_id": "76a6d49a9a654168afaf6a9191affae5",
       "version_major": 2,
       "version_minor": 0
      },
      "text/plain": [
       "Training epoch 33:   0%|          | 0/1000 [00:00<?, ?it/s]"
      ]
     },
     "metadata": {},
     "output_type": "display_data"
    },
    {
     "data": {
      "application/vnd.jupyter.widget-view+json": {
       "model_id": "b2ba54fd87e74191804009bc32393f69",
       "version_major": 2,
       "version_minor": 0
      },
      "text/plain": [
       "Training epoch 34:   0%|          | 0/1000 [00:00<?, ?it/s]"
      ]
     },
     "metadata": {},
     "output_type": "display_data"
    },
    {
     "data": {
      "application/vnd.jupyter.widget-view+json": {
       "model_id": "240460296ba54ccfb87f3e9550ccadce",
       "version_major": 2,
       "version_minor": 0
      },
      "text/plain": [
       "Training epoch 35:   0%|          | 0/1000 [00:00<?, ?it/s]"
      ]
     },
     "metadata": {},
     "output_type": "display_data"
    },
    {
     "data": {
      "application/vnd.jupyter.widget-view+json": {
       "model_id": "dc71bc6ea52b426c9dc896f97528aaab",
       "version_major": 2,
       "version_minor": 0
      },
      "text/plain": [
       "Training epoch 36:   0%|          | 0/1000 [00:00<?, ?it/s]"
      ]
     },
     "metadata": {},
     "output_type": "display_data"
    },
    {
     "data": {
      "application/vnd.jupyter.widget-view+json": {
       "model_id": "b15b790b601b4aa7afad73d14680169e",
       "version_major": 2,
       "version_minor": 0
      },
      "text/plain": [
       "Training epoch 37:   0%|          | 0/1000 [00:00<?, ?it/s]"
      ]
     },
     "metadata": {},
     "output_type": "display_data"
    },
    {
     "data": {
      "application/vnd.jupyter.widget-view+json": {
       "model_id": "a5586be38dc0420d85ab1bf9e396dcdc",
       "version_major": 2,
       "version_minor": 0
      },
      "text/plain": [
       "Training epoch 38:   0%|          | 0/1000 [00:00<?, ?it/s]"
      ]
     },
     "metadata": {},
     "output_type": "display_data"
    },
    {
     "data": {
      "application/vnd.jupyter.widget-view+json": {
       "model_id": "e0872f9d979a429b9e1517cdf6fe2fda",
       "version_major": 2,
       "version_minor": 0
      },
      "text/plain": [
       "Training epoch 39:   0%|          | 0/1000 [00:00<?, ?it/s]"
      ]
     },
     "metadata": {},
     "output_type": "display_data"
    },
    {
     "data": {
      "application/vnd.jupyter.widget-view+json": {
       "model_id": "6b47195e817d4eaba413ed05b093fd8a",
       "version_major": 2,
       "version_minor": 0
      },
      "text/plain": [
       "Training epoch 40:   0%|          | 0/1000 [00:00<?, ?it/s]"
      ]
     },
     "metadata": {},
     "output_type": "display_data"
    },
    {
     "data": {
      "application/vnd.jupyter.widget-view+json": {
       "model_id": "cb31cafcb16d4f2ebd076b02f55e204f",
       "version_major": 2,
       "version_minor": 0
      },
      "text/plain": [
       "Training epoch 41:   0%|          | 0/1000 [00:00<?, ?it/s]"
      ]
     },
     "metadata": {},
     "output_type": "display_data"
    },
    {
     "data": {
      "application/vnd.jupyter.widget-view+json": {
       "model_id": "7f380c64c9bb4cbf9b4c13b103960e45",
       "version_major": 2,
       "version_minor": 0
      },
      "text/plain": [
       "Training epoch 42:   0%|          | 0/1000 [00:00<?, ?it/s]"
      ]
     },
     "metadata": {},
     "output_type": "display_data"
    },
    {
     "data": {
      "application/vnd.jupyter.widget-view+json": {
       "model_id": "39ca7ecb340c46ccaaab0b3b58b7b04b",
       "version_major": 2,
       "version_minor": 0
      },
      "text/plain": [
       "Training epoch 43:   0%|          | 0/1000 [00:00<?, ?it/s]"
      ]
     },
     "metadata": {},
     "output_type": "display_data"
    },
    {
     "data": {
      "application/vnd.jupyter.widget-view+json": {
       "model_id": "19f5343caa5e4bdd815811e22d3c565d",
       "version_major": 2,
       "version_minor": 0
      },
      "text/plain": [
       "Training epoch 44:   0%|          | 0/1000 [00:00<?, ?it/s]"
      ]
     },
     "metadata": {},
     "output_type": "display_data"
    },
    {
     "data": {
      "application/vnd.jupyter.widget-view+json": {
       "model_id": "f8213fb4e70f4768afd8e2c195e30496",
       "version_major": 2,
       "version_minor": 0
      },
      "text/plain": [
       "Training epoch 45:   0%|          | 0/1000 [00:00<?, ?it/s]"
      ]
     },
     "metadata": {},
     "output_type": "display_data"
    },
    {
     "data": {
      "application/vnd.jupyter.widget-view+json": {
       "model_id": "1283424466e14a9b8857ec618df98790",
       "version_major": 2,
       "version_minor": 0
      },
      "text/plain": [
       "Training epoch 46:   0%|          | 0/1000 [00:00<?, ?it/s]"
      ]
     },
     "metadata": {},
     "output_type": "display_data"
    },
    {
     "data": {
      "application/vnd.jupyter.widget-view+json": {
       "model_id": "929c6ebd9b6648eca5c7eee8f543f809",
       "version_major": 2,
       "version_minor": 0
      },
      "text/plain": [
       "Training epoch 47:   0%|          | 0/1000 [00:00<?, ?it/s]"
      ]
     },
     "metadata": {},
     "output_type": "display_data"
    },
    {
     "data": {
      "application/vnd.jupyter.widget-view+json": {
       "model_id": "30f393745dc94244b7e6d80bc14b5b24",
       "version_major": 2,
       "version_minor": 0
      },
      "text/plain": [
       "Training epoch 48:   0%|          | 0/1000 [00:00<?, ?it/s]"
      ]
     },
     "metadata": {},
     "output_type": "display_data"
    },
    {
     "data": {
      "application/vnd.jupyter.widget-view+json": {
       "model_id": "196a59b532574bfdbf1dd1333bf3474a",
       "version_major": 2,
       "version_minor": 0
      },
      "text/plain": [
       "Training epoch 49:   0%|          | 0/1000 [00:00<?, ?it/s]"
      ]
     },
     "metadata": {},
     "output_type": "display_data"
    },
    {
     "data": {
      "application/vnd.jupyter.widget-view+json": {
       "model_id": "354d05a3bbfd490b8677b72e89444411",
       "version_major": 2,
       "version_minor": 0
      },
      "text/plain": [
       "Training epoch 50:   0%|          | 0/1000 [00:00<?, ?it/s]"
      ]
     },
     "metadata": {},
     "output_type": "display_data"
    },
    {
     "data": {
      "application/vnd.jupyter.widget-view+json": {
       "model_id": "abb0417f06124c40823f4efd790106cf",
       "version_major": 2,
       "version_minor": 0
      },
      "text/plain": [
       "Training epoch 51:   0%|          | 0/1000 [00:00<?, ?it/s]"
      ]
     },
     "metadata": {},
     "output_type": "display_data"
    },
    {
     "data": {
      "application/vnd.jupyter.widget-view+json": {
       "model_id": "3e57324f3a6d48e9a05e3082d7259303",
       "version_major": 2,
       "version_minor": 0
      },
      "text/plain": [
       "Training epoch 52:   0%|          | 0/1000 [00:00<?, ?it/s]"
      ]
     },
     "metadata": {},
     "output_type": "display_data"
    },
    {
     "data": {
      "application/vnd.jupyter.widget-view+json": {
       "model_id": "b8a4cfed88cd4a029cf76be77b5f5ef1",
       "version_major": 2,
       "version_minor": 0
      },
      "text/plain": [
       "Training epoch 53:   0%|          | 0/1000 [00:00<?, ?it/s]"
      ]
     },
     "metadata": {},
     "output_type": "display_data"
    },
    {
     "data": {
      "application/vnd.jupyter.widget-view+json": {
       "model_id": "af23d814fe2b46f59aef1c5804a5dda9",
       "version_major": 2,
       "version_minor": 0
      },
      "text/plain": [
       "Training epoch 54:   0%|          | 0/1000 [00:00<?, ?it/s]"
      ]
     },
     "metadata": {},
     "output_type": "display_data"
    },
    {
     "data": {
      "application/vnd.jupyter.widget-view+json": {
       "model_id": "5c227c1afcc14e85850cdb581e39398d",
       "version_major": 2,
       "version_minor": 0
      },
      "text/plain": [
       "Training epoch 55:   0%|          | 0/1000 [00:00<?, ?it/s]"
      ]
     },
     "metadata": {},
     "output_type": "display_data"
    },
    {
     "data": {
      "application/vnd.jupyter.widget-view+json": {
       "model_id": "d1a0a1de9eb147a0b5675f8b88a02cc1",
       "version_major": 2,
       "version_minor": 0
      },
      "text/plain": [
       "Training epoch 56:   0%|          | 0/1000 [00:00<?, ?it/s]"
      ]
     },
     "metadata": {},
     "output_type": "display_data"
    },
    {
     "data": {
      "application/vnd.jupyter.widget-view+json": {
       "model_id": "0b3b5de927474f5fa0d55ad0cfefad7f",
       "version_major": 2,
       "version_minor": 0
      },
      "text/plain": [
       "Training epoch 57:   0%|          | 0/1000 [00:00<?, ?it/s]"
      ]
     },
     "metadata": {},
     "output_type": "display_data"
    },
    {
     "data": {
      "application/vnd.jupyter.widget-view+json": {
       "model_id": "bbebaf8a7970411c9c0950e1949f8cb2",
       "version_major": 2,
       "version_minor": 0
      },
      "text/plain": [
       "Training epoch 58:   0%|          | 0/1000 [00:00<?, ?it/s]"
      ]
     },
     "metadata": {},
     "output_type": "display_data"
    },
    {
     "data": {
      "application/vnd.jupyter.widget-view+json": {
       "model_id": "1815a621b525477ba24982702791c33d",
       "version_major": 2,
       "version_minor": 0
      },
      "text/plain": [
       "Training epoch 59:   0%|          | 0/1000 [00:00<?, ?it/s]"
      ]
     },
     "metadata": {},
     "output_type": "display_data"
    },
    {
     "data": {
      "application/vnd.jupyter.widget-view+json": {
       "model_id": "616bcf03ba404c239424c5fc2841278d",
       "version_major": 2,
       "version_minor": 0
      },
      "text/plain": [
       "Training epoch 60:   0%|          | 0/1000 [00:00<?, ?it/s]"
      ]
     },
     "metadata": {},
     "output_type": "display_data"
    },
    {
     "data": {
      "application/vnd.jupyter.widget-view+json": {
       "model_id": "02a4c0f275da453da6223a3c62c39afe",
       "version_major": 2,
       "version_minor": 0
      },
      "text/plain": [
       "Training epoch 61:   0%|          | 0/1000 [00:00<?, ?it/s]"
      ]
     },
     "metadata": {},
     "output_type": "display_data"
    },
    {
     "data": {
      "application/vnd.jupyter.widget-view+json": {
       "model_id": "00a8611f515f4791afab3a18d0b251c8",
       "version_major": 2,
       "version_minor": 0
      },
      "text/plain": [
       "Training epoch 62:   0%|          | 0/1000 [00:00<?, ?it/s]"
      ]
     },
     "metadata": {},
     "output_type": "display_data"
    },
    {
     "data": {
      "application/vnd.jupyter.widget-view+json": {
       "model_id": "3e63c0ae9d084c9f862905c141045faa",
       "version_major": 2,
       "version_minor": 0
      },
      "text/plain": [
       "Training epoch 63:   0%|          | 0/1000 [00:00<?, ?it/s]"
      ]
     },
     "metadata": {},
     "output_type": "display_data"
    },
    {
     "data": {
      "application/vnd.jupyter.widget-view+json": {
       "model_id": "c191514872064a63bdbb637b872767a7",
       "version_major": 2,
       "version_minor": 0
      },
      "text/plain": [
       "Training epoch 64:   0%|          | 0/1000 [00:00<?, ?it/s]"
      ]
     },
     "metadata": {},
     "output_type": "display_data"
    },
    {
     "data": {
      "application/vnd.jupyter.widget-view+json": {
       "model_id": "1df55da766304fba9598679b2ccaa103",
       "version_major": 2,
       "version_minor": 0
      },
      "text/plain": [
       "Training epoch 65:   0%|          | 0/1000 [00:00<?, ?it/s]"
      ]
     },
     "metadata": {},
     "output_type": "display_data"
    },
    {
     "data": {
      "application/vnd.jupyter.widget-view+json": {
       "model_id": "0b3ea1fc351740efaa03603128b7e43f",
       "version_major": 2,
       "version_minor": 0
      },
      "text/plain": [
       "Training epoch 66:   0%|          | 0/1000 [00:00<?, ?it/s]"
      ]
     },
     "metadata": {},
     "output_type": "display_data"
    },
    {
     "data": {
      "application/vnd.jupyter.widget-view+json": {
       "model_id": "8fc68d9099f04dc6aca35a6430bd3550",
       "version_major": 2,
       "version_minor": 0
      },
      "text/plain": [
       "Training epoch 67:   0%|          | 0/1000 [00:00<?, ?it/s]"
      ]
     },
     "metadata": {},
     "output_type": "display_data"
    },
    {
     "data": {
      "application/vnd.jupyter.widget-view+json": {
       "model_id": "6e9a10cf52cd4a5bbf55d5ee611014ad",
       "version_major": 2,
       "version_minor": 0
      },
      "text/plain": [
       "Training epoch 68:   0%|          | 0/1000 [00:00<?, ?it/s]"
      ]
     },
     "metadata": {},
     "output_type": "display_data"
    },
    {
     "data": {
      "application/vnd.jupyter.widget-view+json": {
       "model_id": "579cbfa2f89d473c8b86e9b35f5ce80e",
       "version_major": 2,
       "version_minor": 0
      },
      "text/plain": [
       "Training epoch 69:   0%|          | 0/1000 [00:00<?, ?it/s]"
      ]
     },
     "metadata": {},
     "output_type": "display_data"
    },
    {
     "data": {
      "application/vnd.jupyter.widget-view+json": {
       "model_id": "2550179e5d154c68b73771b8f3281fd3",
       "version_major": 2,
       "version_minor": 0
      },
      "text/plain": [
       "Training epoch 70:   0%|          | 0/1000 [00:00<?, ?it/s]"
      ]
     },
     "metadata": {},
     "output_type": "display_data"
    },
    {
     "data": {
      "application/vnd.jupyter.widget-view+json": {
       "model_id": "bdc4e69e0bf745ecbe7d1703ac9e699e",
       "version_major": 2,
       "version_minor": 0
      },
      "text/plain": [
       "Training epoch 71:   0%|          | 0/1000 [00:00<?, ?it/s]"
      ]
     },
     "metadata": {},
     "output_type": "display_data"
    },
    {
     "data": {
      "application/vnd.jupyter.widget-view+json": {
       "model_id": "32357edf9ce74ea4b6da3649d2473b51",
       "version_major": 2,
       "version_minor": 0
      },
      "text/plain": [
       "Training epoch 72:   0%|          | 0/1000 [00:00<?, ?it/s]"
      ]
     },
     "metadata": {},
     "output_type": "display_data"
    },
    {
     "data": {
      "application/vnd.jupyter.widget-view+json": {
       "model_id": "2c7a0d1121444509bad801c2e380cb6b",
       "version_major": 2,
       "version_minor": 0
      },
      "text/plain": [
       "Training epoch 73:   0%|          | 0/1000 [00:00<?, ?it/s]"
      ]
     },
     "metadata": {},
     "output_type": "display_data"
    },
    {
     "data": {
      "application/vnd.jupyter.widget-view+json": {
       "model_id": "6741dbd52f00450aaadff61b4e8497df",
       "version_major": 2,
       "version_minor": 0
      },
      "text/plain": [
       "Training epoch 74:   0%|          | 0/1000 [00:00<?, ?it/s]"
      ]
     },
     "metadata": {},
     "output_type": "display_data"
    },
    {
     "data": {
      "application/vnd.jupyter.widget-view+json": {
       "model_id": "6952aea49d654dda9acad555796a9c60",
       "version_major": 2,
       "version_minor": 0
      },
      "text/plain": [
       "Training epoch 75:   0%|          | 0/1000 [00:00<?, ?it/s]"
      ]
     },
     "metadata": {},
     "output_type": "display_data"
    }
   ],
   "source": [
    "if TRAIN_NETWORKS:\n",
    "    history = experiment.run(\n",
    "        epochs=75, \n",
    "        iterations_per_epoch=1000,\n",
    "        batch_size=16\n",
    "    )\n",
    "else:\n",
    "    history = experiment.trainer.loss_history.get_plottable()"
   ]
  },
  {
   "cell_type": "code",
   "execution_count": null,
   "metadata": {},
   "outputs": [],
   "source": [
    "f = beef.diagnostics.plot_losses(history)"
   ]
  },
  {
   "cell_type": "markdown",
   "metadata": {},
   "source": [
    "## Evaluation"
   ]
  },
  {
   "cell_type": "code",
   "execution_count": null,
   "metadata": {},
   "outputs": [],
   "source": [
    "with tf.device('/cpu:0'):\n",
    "    if FIT_MODEL:\n",
    "        local_post_static = np.zeros((NUM_SIM, NUM_STEPS, NUM_SAMPLES, 3))\n",
    "        global_post_static = np.zeros((NUM_SIM, NUM_SAMPLES, 3))\n",
    "        local_post_stationary = np.zeros((NUM_SIM, NUM_STEPS, NUM_SAMPLES, 3))\n",
    "        global_post_stationary = np.zeros((NUM_SIM, NUM_SAMPLES, 3))\n",
    "        local_post_random_walk = np.zeros((NUM_SIM, NUM_STEPS, NUM_SAMPLES, 3))\n",
    "        global_post_random_walk = np.zeros((NUM_SIM, NUM_SAMPLES, 3))\n",
    "        local_post_regime_switching = np.zeros((NUM_SIM, NUM_STEPS, NUM_SAMPLES, 3))\n",
    "        global_post_regime_switching = np.zeros((NUM_SIM, NUM_SAMPLES, 3))\n",
    "\n",
    "\n",
    "        for sim in range(NUM_SIM):\n",
    "            # static ddm\n",
    "            post_samples = experiment.amortizer.sample(\n",
    "                {'summary_conditions': static_ddm_sim['sim_data'][sim:sim+1, :, None]},\n",
    "                NUM_SAMPLES\n",
    "            )\n",
    "            local_post_static[sim] = post_samples['local_samples']\n",
    "            global_post_static[sim] = post_samples['global_samples']\n",
    "            # stationary ddm\n",
    "            post_samples = experiment.amortizer.sample(\n",
    "                {'summary_conditions': stationary_ddm_sim['sim_data'][sim:sim+1, :, None]},\n",
    "                NUM_SAMPLES\n",
    "            )\n",
    "            local_post_stationary[sim] = post_samples['local_samples']\n",
    "            global_post_stationary[sim] = post_samples['global_samples']\n",
    "            # random walk ddm\n",
    "            post_samples = experiment.amortizer.sample(\n",
    "                {'summary_conditions': random_walk_ddm_sim['sim_data'][sim:sim+1, :, None]},\n",
    "                NUM_SAMPLES\n",
    "            )\n",
    "            local_post_random_walk[sim] = post_samples['local_samples']\n",
    "            global_post_random_walk[sim] = post_samples['global_samples']\n",
    "            # regime switching ddm\n",
    "            post_samples = experiment.amortizer.sample(\n",
    "                {'summary_conditions': regime_switching_ddm_sim['sim_data'][sim:sim+1, :, None]},\n",
    "                NUM_SAMPLES\n",
    "            )\n",
    "            local_post_regime_switching[sim] = post_samples['local_samples']\n",
    "            global_post_regime_switching[sim] = post_samples['global_samples']\n",
    "            \n",
    "        np.save('../data/local_post_static.npy', local_post_static)\n",
    "        np.save('../data/global_post_static.npy', global_post_static)\n",
    "        np.save('../data/local_post_stationary.npy', local_post_stationary)\n",
    "        np.save('../data/global_post_stationary.npy', global_post_stationary)\n",
    "        np.save('../data/local_post_random_walk.npy', local_post_random_walk)\n",
    "        np.save('../data/global_post_random_walk.npy', global_post_random_walk)\n",
    "        np.save('../data/local_post_regime_switching.npy', local_post_regime_switching)\n",
    "        np.save('../data/global_post_regime_switching.npy', global_post_regime_switching)\n",
    "\n",
    "    else:\n",
    "        local_post_static = np.load('../data/local_post_static.npy')\n",
    "        global_post_static = np.load('../data/global_post_static.npy')\n",
    "        local_post_stationary = np.load('../data/local_post_stationary.npy')\n",
    "        global_post_stationary = np.load('../data/global_post_stationary.npy')\n",
    "        local_post_random_walk = np.load('../data/local_post_random_walk.npy')\n",
    "        global_post_random_walk = np.load('../data/global_post_random_walk.npy')\n",
    "        local_post_regime_switching = np.load('../data/local_post_regime_switching.npy')\n",
    "        global_post_regime_switching = np.load('../data/global_post_regime_switching.npy')\n",
    "        "
   ]
  },
  {
   "cell_type": "code",
   "execution_count": null,
   "metadata": {},
   "outputs": [],
   "source": [
    "# unscale posterior samples\n",
    "local_post_static = local_post_static * random_walk_ddm.local_prior_stds + random_walk_ddm.local_prior_means\n",
    "local_post_stationary = local_post_stationary * random_walk_ddm.local_prior_stds + random_walk_ddm.local_prior_means\n",
    "local_post_random_walk = local_post_random_walk * random_walk_ddm.local_prior_stds + random_walk_ddm.local_prior_means\n",
    "local_post_regime_switching = local_post_regime_switching * random_walk_ddm.local_prior_stds + random_walk_ddm.local_prior_means"
   ]
  },
  {
   "cell_type": "code",
   "execution_count": null,
   "metadata": {},
   "outputs": [],
   "source": [
    "# calculate posterior means\n",
    "local_post_static_means = local_post_static.mean(axis=2)\n",
    "local_post_stationary_means = local_post_stationary.mean(axis=2)\n",
    "local_post_random_walk_means = local_post_random_walk.mean(axis=2)\n",
    "local_post_regime_switching_means = local_post_regime_switching.mean(axis=2)"
   ]
  },
  {
   "cell_type": "code",
   "execution_count": null,
   "metadata": {},
   "outputs": [],
   "source": [
    "# calculate absolute error between true and estimated parameter\n",
    "abs_error_static = np.empty((NUM_SIM, NUM_STEPS, 3))\n",
    "abs_error_stationary = np.empty((NUM_SIM, NUM_STEPS, 3))\n",
    "for i in range(NUM_SIM):\n",
    "    abs_error_static[i] = np.abs(local_post_static_means[i] - static_ddm_sim['prior_draws'][i])\n",
    "    abs_error_stationary[i] = np.abs(local_post_stationary_means[i] - stationary_ddm_sim['prior_draws'][i, :3])\n",
    "abs_error_random_walk = np.abs(local_post_random_walk_means - random_walk_ddm_sim['local_prior_draws'])\n",
    "abs_error_regime_switching = np.abs(local_post_regime_switching_means - regime_switching_ddm_sim['prior_draws'])"
   ]
  },
  {
   "cell_type": "code",
   "execution_count": null,
   "metadata": {},
   "outputs": [],
   "source": [
    "# aggregate absolute error over simulations\n",
    "abs_error_static_mean = abs_error_static.mean(axis=0)\n",
    "abs_error_static_std = abs_error_static.std(axis=0)\n",
    "abs_error_stationary_mean = abs_error_stationary.mean(axis=0)\n",
    "abs_error_stationary_std = abs_error_stationary.std(axis=0)\n",
    "abs_error_random_walk_mean = abs_error_random_walk.mean(axis=0)\n",
    "abs_error_random_walk_std = abs_error_random_walk.std(axis=0)\n",
    "abs_error_regime_switching_mean = abs_error_regime_switching.mean(axis=0)\n",
    "abs_error_regime_switching_std = abs_error_regime_switching.std(axis=0)"
   ]
  },
  {
   "cell_type": "code",
   "execution_count": null,
   "metadata": {},
   "outputs": [],
   "source": [
    "mean_summaries = np.array([abs_error_static_mean, abs_error_stationary_mean,\n",
    "                abs_error_random_walk_mean, abs_error_regime_switching_mean])\n",
    "std_summaries = np.array([abs_error_static_std, abs_error_stationary_std,\n",
    "                abs_error_random_walk_std, abs_error_regime_switching_std])"
   ]
  },
  {
   "cell_type": "code",
   "execution_count": null,
   "metadata": {},
   "outputs": [],
   "source": [
    "subfigure_titles = [\"Static DDM\", \"Stationary Variablity DDM\",\n",
    "                    \"Non-Stationary Variability DDM\", \"Regime Switching DDM\"]"
   ]
  },
  {
   "cell_type": "code",
   "execution_count": null,
   "metadata": {},
   "outputs": [],
   "source": [
    "fig = plt.figure(constrained_layout=True, figsize=(15, 15))\n",
    "\n",
    "# create 4x1 subfigs\n",
    "subfigs = fig.subfigures(nrows=4, ncols=1)\n",
    "for row, subfig in enumerate(subfigs):\n",
    "    subfig.suptitle(subfigure_titles[row], fontsize=FONT_SIZE_1, fontweight='semibold')\n",
    "\n",
    "    # create 1x3 subplots per subfig\n",
    "    axs = subfig.subplots(nrows=1, ncols=3)\n",
    "    for col, ax in enumerate(axs):\n",
    "        ax.plot(\n",
    "            np.arange(NUM_STEPS), mean_summaries[row, :, col],\n",
    "            color = \"maroon\"\n",
    "        )\n",
    "        \n",
    "        ax.fill_between(\n",
    "            np.arange(NUM_STEPS),\n",
    "            mean_summaries[row, :, col] - std_summaries[row, :, col],\n",
    "            mean_summaries[row, :, col] + std_summaries[row, :, col],\n",
    "            alpha = 0.5,\n",
    "            color = \"maroon\"\n",
    "        )\n",
    "        ax.grid(alpha=0.5)\n",
    "        \n",
    "        if row == 0:\n",
    "            ax.set_title(PARAM_LABELS[col] + ' ({})'.format(PARAM_NAMES[col]), fontsize=FONT_SIZE_2)\n",
    "            \n",
    "        ax.set_xlabel('Time', fontsize=FONT_SIZE_3)\n",
    "        ax.set_ylabel(r'MAE $(\\bar{\\theta} - \\theta^*)$', fontsize=FONT_SIZE_3)\n",
    "        ax.tick_params(axis='both', which='major', labelsize=FONT_SIZE_3)\n",
    "        \n",
    "    \n",
    "        \n",
    "sns.despine()\n",
    "f.tight_layout()\n",
    "\n",
    "plt.savefig('../plots/simulation_study_result.png', dpi=300)"
   ]
  },
  {
   "cell_type": "code",
   "execution_count": null,
   "metadata": {},
   "outputs": [],
   "source": []
  }
 ],
 "metadata": {
  "kernelspec": {
   "display_name": "Python 3 (ipykernel)",
   "language": "python",
   "name": "python3"
  },
  "language_info": {
   "codemirror_mode": {
    "name": "ipython",
    "version": 3
   },
   "file_extension": ".py",
   "mimetype": "text/x-python",
   "name": "python",
   "nbconvert_exporter": "python",
   "pygments_lexer": "ipython3",
   "version": "3.10.10"
  }
 },
 "nbformat": 4,
 "nbformat_minor": 2
}
