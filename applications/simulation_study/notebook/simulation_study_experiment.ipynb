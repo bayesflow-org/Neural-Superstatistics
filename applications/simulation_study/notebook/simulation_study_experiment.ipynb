{
 "cells": [
  {
   "cell_type": "code",
   "execution_count": null,
   "metadata": {},
   "outputs": [],
   "source": [
    "import sys\n",
    "sys.path.append(\"../\")\n",
    "sys.path.append(\"../../../assets\")\n",
    "\n",
    "\n",
    "# Get rid of annoying tf warning\n",
    "import os\n",
    "os.environ['TF_CPP_MIN_LOG_LEVEL'] = '3' \n",
    "\n",
    "import numpy as np\n",
    "np.set_printoptions(suppress=True)\n",
    "import matplotlib.pyplot as plt\n",
    "import seaborn as sns\n",
    "import tensorflow as tf\n",
    "import bayesflow as beef\n",
    "import pickle\n",
    "\n",
    "from experiments import RandomWalkDiffusionExperiment\n",
    "from diffusion.models import RandomWalkDiffusion\n",
    "from configuration import default_num_steps"
   ]
  },
  {
   "cell_type": "code",
   "execution_count": null,
   "metadata": {},
   "outputs": [],
   "source": [
    "# If set to False, existing results will be loaded\n",
    "# Set to True if you want to re-run the experiments\n",
    "SIMULATE_DATA = True\n",
    "TRAIN_NETWORKS = True\n",
    "FIT_MODEL = True\n",
    "\n",
    "NUM_SIM = 200\n",
    "NUM_STEPS = 400\n",
    "NUM_SAMPLES = 2000\n",
    "\n",
    "NEURAL_COLOR = '#852626'\n",
    "COMPARISON_COLOR = '#133a76'\n",
    "ALPHA = 0.6\n",
    "PARAM_LABELS = ['Drift rate', 'Threshold', 'Non-decision time']\n",
    "PARAM_NAMES  = [r'$v$', r'$a$', r'$\\tau$']\n",
    "\n",
    "FONT_SIZE_1 = 20\n",
    "FONT_SIZE_2 = 18\n",
    "FONT_SIZE_3 = 16\n",
    "\n",
    "import matplotlib\n",
    "matplotlib.rcParams['font.sans-serif'] = \"Palatino\"\n",
    "matplotlib.rcParams['font.family'] = \"sans-serif\""
   ]
  },
  {
   "cell_type": "code",
   "execution_count": 8,
   "metadata": {},
   "outputs": [
    {
     "name": "stderr",
     "output_type": "stream",
     "text": [
      "INFO:root:Performing 2 pilot runs with the random_walk_diffusion_model model...\n",
      "INFO:root:Shape of parameter batch after 2 pilot simulations: (batch_size = 2, 400, 3)\n",
      "INFO:root:Shape of simulation batch after 2 pilot simulations: (batch_size = 2, 400)\n",
      "INFO:root:Shape of hyper_prior_draws batch after 2 pilot simulations: (batch_size = 2, 3)\n",
      "INFO:root:Shape of local_prior_draws batch after 2 pilot simulations: (batch_size = 2, 400, 3)\n",
      "INFO:root:No shared_prior_draws provided.\n",
      "INFO:root:No optional simulation batchable context provided.\n",
      "INFO:root:No optional simulation non-batchable context provided.\n",
      "INFO:root:No optional prior batchable context provided.\n",
      "INFO:root:No optional prior non-batchable context provided.\n",
      "INFO:root:Loaded loss history from ../checkpoints/simulation_study/history_75.pkl.\n",
      "INFO:root:Networks loaded from ../checkpoints/simulation_study/ckpt-75\n",
      "INFO:root:Performing a consistency check with provided components...\n",
      "INFO:root:Done.\n"
     ]
    }
   ],
   "source": [
    "random_walk_ddm = RandomWalkDiffusion(num_steps=default_num_steps)\n",
    "experiment = RandomWalkDiffusionExperiment(random_walk_ddm)"
   ]
  },
  {
   "attachments": {},
   "cell_type": "markdown",
   "metadata": {},
   "source": [
    "## Simulation"
   ]
  },
  {
   "cell_type": "code",
   "execution_count": 10,
   "metadata": {},
   "outputs": [
    {
     "name": "stderr",
     "output_type": "stream",
     "text": [
      "INFO:root:Performing 2 pilot runs with the static_diffusion_model model...\n",
      "INFO:root:Shape of parameter batch after 2 pilot simulations: (batch_size = 2, 3)\n",
      "INFO:root:Shape of simulation batch after 2 pilot simulations: (batch_size = 2, 400)\n",
      "INFO:root:No optional prior non-batchable context provided.\n",
      "INFO:root:No optional prior batchable context provided.\n",
      "INFO:root:No optional simulation non-batchable context provided.\n",
      "INFO:root:No optional simulation batchable context provided.\n",
      "INFO:root:Performing 2 pilot runs with the stationary_diffusion_model model...\n",
      "INFO:root:Shape of parameter batch after 2 pilot simulations: (batch_size = 2, 6)\n",
      "INFO:root:Shape of simulation batch after 2 pilot simulations: (batch_size = 2, 400)\n",
      "INFO:root:No optional prior non-batchable context provided.\n",
      "INFO:root:No optional prior batchable context provided.\n",
      "INFO:root:No optional simulation non-batchable context provided.\n",
      "INFO:root:No optional simulation batchable context provided.\n",
      "INFO:root:Performing 2 pilot runs with the regime_switching_diffusion_model model...\n",
      "INFO:root:Shape of parameter batch after 2 pilot simulations: (batch_size = 2, 400, 3)\n",
      "INFO:root:Shape of simulation batch after 2 pilot simulations: (batch_size = 2, 400)\n",
      "INFO:root:No optional prior non-batchable context provided.\n",
      "INFO:root:No optional prior batchable context provided.\n",
      "INFO:root:No optional simulation non-batchable context provided.\n",
      "INFO:root:No optional simulation batchable context provided.\n"
     ]
    }
   ],
   "source": [
    "if SIMULATE_DATA:\n",
    "    from diffusion.models import StaticDiffusion, StationaryDiffusion, RegimeSwitchingDiffusion\n",
    "    static_ddm = StaticDiffusion()\n",
    "    stationary_ddm = StationaryDiffusion()\n",
    "    regime_switching_ddm = RegimeSwitchingDiffusion()\n",
    "    static_ddm_sim = static_ddm.generate(NUM_SIM)\n",
    "    stationary_ddm_sim = stationary_ddm.generate(NUM_SIM)\n",
    "    random_walk_ddm_sim = random_walk_ddm.generate(NUM_SIM)\n",
    "    regime_switching_ddm_sim = regime_switching_ddm.generate(NUM_SIM)\n",
    "    with open('../data/static_ddm_sim_200.pkl', 'wb') as f:\n",
    "        pickle.dump(static_ddm_sim, f)\n",
    "    with open('../data/stationary_ddm_sim_200.pkl', 'wb') as f:\n",
    "        pickle.dump(stationary_ddm_sim, f)\n",
    "    with open('../data/random_walk_ddm_sim_200.pkl', 'wb') as f:\n",
    "        pickle.dump(random_walk_ddm_sim, f)\n",
    "    with open('../data/regime_switching_ddm_sim_200.pkl', 'wb') as f:\n",
    "        pickle.dump(regime_switching_ddm_sim, f)\n",
    "else:\n",
    "    with open('../data/static_ddm_sim_200.pkl', 'rb') as f:\n",
    "        static_ddm_sim = pickle.load(f)\n",
    "    with open('../data/stationary_ddm_sim_200.pkl', 'rb') as f:\n",
    "        stationary_ddm_sim = pickle.load(f)\n",
    "    with open('../data/random_walk_ddm_sim_200.pkl', 'rb') as f:\n",
    "        random_walk_ddm_sim = pickle.load(f)\n",
    "    with open('../data/regime_switching_ddm_sim_200.pkl', 'rb') as f:\n",
    "        regime_switching_ddm_sim = pickle.load(f)"
   ]
  },
  {
   "attachments": {},
   "cell_type": "markdown",
   "metadata": {},
   "source": [
    "## Training"
   ]
  },
  {
   "cell_type": "code",
   "execution_count": null,
   "metadata": {},
   "outputs": [],
   "source": [
    "if TRAIN_NETWORKS:\n",
    "    history = experiment.run(\n",
    "        epochs=75, \n",
    "        iterations_per_epoch=1000,\n",
    "        batch_size=16\n",
    "    )\n",
    "else:\n",
    "    history = experiment.trainer.loss_history.get_plottable()"
   ]
  },
  {
   "cell_type": "code",
   "execution_count": null,
   "metadata": {},
   "outputs": [],
   "source": [
    "f = beef.diagnostics.plot_losses(history)"
   ]
  },
  {
   "attachments": {},
   "cell_type": "markdown",
   "metadata": {},
   "source": [
    "## Evaluation"
   ]
  },
  {
   "cell_type": "code",
   "execution_count": null,
   "metadata": {},
   "outputs": [],
   "source": [
    "with tf.device('/cpu:0'):\n",
    "    if FIT_MODEL:\n",
    "        local_post_static = np.zeros((NUM_SIM, NUM_STEPS, NUM_SAMPLES, 3))\n",
    "        global_post_static = np.zeros((NUM_SIM, NUM_SAMPLES, 3))\n",
    "        local_post_stationary = np.zeros((NUM_SIM, NUM_STEPS, NUM_SAMPLES, 3))\n",
    "        global_post_stationary = np.zeros((NUM_SIM, NUM_SAMPLES, 3))\n",
    "        local_post_random_walk = np.zeros((NUM_SIM, NUM_STEPS, NUM_SAMPLES, 3))\n",
    "        global_post_random_walk = np.zeros((NUM_SIM, NUM_SAMPLES, 3))\n",
    "        local_post_regime_switching = np.zeros((NUM_SIM, NUM_STEPS, NUM_SAMPLES, 3))\n",
    "        global_post_regime_switching = np.zeros((NUM_SIM, NUM_SAMPLES, 3))\n",
    "\n",
    "\n",
    "        for sim in range(NUM_SIM):\n",
    "            # static ddm\n",
    "            post_samples = experiment.amortizer.sample(\n",
    "                {'summary_conditions': static_ddm_sim['sim_data'][sim:sim+1, :, None]},\n",
    "                NUM_SAMPLES\n",
    "            )\n",
    "            local_post_static[sim] = post_samples['local_samples']\n",
    "            global_post_static[sim] = post_samples['global_samples']\n",
    "            # stationary ddm\n",
    "            post_samples = experiment.amortizer.sample(\n",
    "                {'summary_conditions': stationary_ddm_sim['sim_data'][sim:sim+1, :, None]},\n",
    "                NUM_SAMPLES\n",
    "            )\n",
    "            local_post_stationary[sim] = post_samples['local_samples']\n",
    "            global_post_stationary[sim] = post_samples['global_samples']\n",
    "            # random walk ddm\n",
    "            post_samples = experiment.amortizer.sample(\n",
    "                {'summary_conditions': random_walk_ddm_sim['sim_data'][sim:sim+1, :, None]},\n",
    "                NUM_SAMPLES\n",
    "            )\n",
    "            local_post_random_walk[sim] = post_samples['local_samples']\n",
    "            global_post_random_walk[sim] = post_samples['global_samples']\n",
    "            # regime switching ddm\n",
    "            post_samples = experiment.amortizer.sample(\n",
    "                {'summary_conditions': regime_switching_ddm_sim['sim_data'][sim:sim+1, :, None]},\n",
    "                NUM_SAMPLES\n",
    "            )\n",
    "            local_post_regime_switching[sim] = post_samples['local_samples']\n",
    "            global_post_regime_switching[sim] = post_samples['global_samples']\n",
    "            \n",
    "        np.save('../data/local_post_static.npy', local_post_static)\n",
    "        np.save('../data/global_post_static.npy', global_post_static)\n",
    "        np.save('../data/local_post_stationary.npy', local_post_stationary)\n",
    "        np.save('../data/global_post_stationary.npy', global_post_stationary)\n",
    "        np.save('../data/local_post_random_walk.npy', local_post_random_walk)\n",
    "        np.save('../data/global_post_random_walk.npy', global_post_random_walk)\n",
    "        np.save('../data/local_post_regime_switching.npy', local_post_regime_switching)\n",
    "        np.save('../data/global_post_regime_switching.npy', global_post_regime_switching)\n",
    "\n",
    "    else:\n",
    "        local_post_static = np.load('../data/local_post_static.npy')\n",
    "        global_post_static = np.load('../data/global_post_static.npy')\n",
    "        local_post_stationary = np.load('../data/local_post_stationary.npy')\n",
    "        global_post_stationary = np.load('../data/global_post_stationary.npy')\n",
    "        local_post_random_walk = np.load('../data/local_post_random_walk.npy')\n",
    "        global_post_random_walk = np.load('../data/global_post_random_walk.npy')\n",
    "        local_post_regime_switching = np.load('../data/local_post_regime_switching.npy')\n",
    "        global_post_regime_switching = np.load('../data/global_post_regime_switching.npy')\n",
    "        "
   ]
  },
  {
   "cell_type": "code",
   "execution_count": null,
   "metadata": {},
   "outputs": [],
   "source": [
    "# unscale posterior samples\n",
    "local_post_static = local_post_static * random_walk_ddm.local_prior_stds + random_walk_ddm.local_prior_means\n",
    "local_post_stationary = local_post_stationary * random_walk_ddm.local_prior_stds + random_walk_ddm.local_prior_means\n",
    "local_post_random_walk = local_post_random_walk * random_walk_ddm.local_prior_stds + random_walk_ddm.local_prior_means\n",
    "local_post_regime_switching = local_post_regime_switching * random_walk_ddm.local_prior_stds + random_walk_ddm.local_prior_means"
   ]
  },
  {
   "cell_type": "code",
   "execution_count": null,
   "metadata": {},
   "outputs": [],
   "source": [
    "# calculate posterior means\n",
    "local_post_static_means = local_post_static.mean(axis=2)\n",
    "local_post_stationary_means = local_post_stationary.mean(axis=2)\n",
    "local_post_random_walk_means = local_post_random_walk.mean(axis=2)\n",
    "local_post_regime_switching_means = local_post_regime_switching.mean(axis=2)"
   ]
  },
  {
   "cell_type": "code",
   "execution_count": null,
   "metadata": {},
   "outputs": [],
   "source": [
    "# calculate absolute error between true and estimated parameter\n",
    "abs_error_static = np.empty((NUM_SIM, NUM_STEPS, 3))\n",
    "abs_error_stationary = np.empty((NUM_SIM, NUM_STEPS, 3))\n",
    "for i in range(NUM_SIM):\n",
    "    abs_error_static[i] = np.abs(local_post_static_means[i] - static_ddm_sim['prior_draws'][i])\n",
    "    abs_error_stationary[i] = np.abs(local_post_stationary_means[i] - stationary_ddm_sim['prior_draws'][i, :3])\n",
    "abs_error_random_walk = np.abs(local_post_random_walk_means - random_walk_ddm_sim['local_prior_draws'])\n",
    "abs_error_regime_switching = np.abs(local_post_regime_switching_means - regime_switching_ddm_sim['prior_draws'])"
   ]
  },
  {
   "cell_type": "code",
   "execution_count": null,
   "metadata": {},
   "outputs": [],
   "source": [
    "# aggregate absolute error over simulations\n",
    "abs_error_static_mean = abs_error_static.mean(axis=0)\n",
    "abs_error_static_std = abs_error_static.std(axis=0)\n",
    "abs_error_stationary_mean = abs_error_stationary.mean(axis=0)\n",
    "abs_error_stationary_std = abs_error_stationary.std(axis=0)\n",
    "abs_error_random_walk_mean = abs_error_random_walk.mean(axis=0)\n",
    "abs_error_random_walk_std = abs_error_random_walk.std(axis=0)\n",
    "abs_error_regime_switching_mean = abs_error_regime_switching.mean(axis=0)\n",
    "abs_error_regime_switching_std = abs_error_regime_switching.std(axis=0)"
   ]
  },
  {
   "cell_type": "code",
   "execution_count": null,
   "metadata": {},
   "outputs": [],
   "source": [
    "mean_summaries = np.array([abs_error_static_mean, abs_error_stationary_mean,\n",
    "                abs_error_random_walk_mean, abs_error_regime_switching_mean])\n",
    "std_summaries = np.array([abs_error_static_std, abs_error_stationary_std,\n",
    "                abs_error_random_walk_std, abs_error_regime_switching_std])"
   ]
  },
  {
   "cell_type": "code",
   "execution_count": null,
   "metadata": {},
   "outputs": [],
   "source": [
    "subfigure_titles = [\"Static DDM\", \"Stationary Variablity DDM\",\n",
    "                    \"Non-Stationary Variability DDM\", \"Regime Switching DDM\"]"
   ]
  },
  {
   "cell_type": "code",
   "execution_count": null,
   "metadata": {},
   "outputs": [],
   "source": [
    "fig = plt.figure(constrained_layout=True, figsize=(15, 15))\n",
    "\n",
    "# create 4x1 subfigs\n",
    "subfigs = fig.subfigures(nrows=4, ncols=1)\n",
    "for row, subfig in enumerate(subfigs):\n",
    "    subfig.suptitle(subfigure_titles[row], fontsize=FONT_SIZE_1, fontweight='semibold')\n",
    "\n",
    "    # create 1x3 subplots per subfig\n",
    "    axs = subfig.subplots(nrows=1, ncols=3)\n",
    "    for col, ax in enumerate(axs):\n",
    "        ax.plot(\n",
    "            np.arange(NUM_STEPS), mean_summaries[row, :, col],\n",
    "            color = \"maroon\"\n",
    "        )\n",
    "        \n",
    "        ax.fill_between(\n",
    "            np.arange(NUM_STEPS),\n",
    "            mean_summaries[row, :, col] - std_summaries[row, :, col],\n",
    "            mean_summaries[row, :, col] + std_summaries[row, :, col],\n",
    "            alpha = 0.5,\n",
    "            color = \"maroon\"\n",
    "        )\n",
    "        ax.grid(alpha=0.5)\n",
    "        \n",
    "        if row == 0:\n",
    "            ax.set_title(PARAM_LABELS[col] + ' ({})'.format(PARAM_NAMES[col]), fontsize=FONT_SIZE_2)\n",
    "            \n",
    "        ax.set_xlabel('Time', fontsize=FONT_SIZE_3)\n",
    "        ax.set_ylabel(r'MAE $(\\bar{\\theta} - \\theta^*)$', fontsize=FONT_SIZE_3)\n",
    "        ax.tick_params(axis='both', which='major', labelsize=FONT_SIZE_3)\n",
    "        \n",
    "    \n",
    "        \n",
    "sns.despine()\n",
    "f.tight_layout()\n",
    "\n",
    "plt.savefig('../plots/simulation_study_result.png', dpi=300)"
   ]
  }
 ],
 "metadata": {
  "kernelspec": {
   "display_name": "Python 3 (ipykernel)",
   "language": "python",
   "name": "python3"
  },
  "language_info": {
   "codemirror_mode": {
    "name": "ipython",
    "version": 3
   },
   "file_extension": ".py",
   "mimetype": "text/x-python",
   "name": "python",
   "nbconvert_exporter": "python",
   "pygments_lexer": "ipython3",
   "version": "3.10.10"
  }
 },
 "nbformat": 4,
 "nbformat_minor": 2
}
