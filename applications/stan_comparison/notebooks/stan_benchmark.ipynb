{
 "cells": [
  {
   "cell_type": "code",
   "execution_count": null,
   "metadata": {},
   "outputs": [],
   "source": [
    "import sys\n",
    "sys.path.append(\"../\")\n",
    "\n",
    "# Get rid of annoying tf warning\n",
    "import os\n",
    "os.environ['TF_CPP_MIN_LOG_LEVEL'] = '3'\n",
    "\n",
    "import numpy as np\n",
    "import matplotlib.pyplot as plt\n",
    "import seaborn as sns\n",
    "import tensorflow as tf\n",
    "import bayesflow as beef\n",
    "import pandas as pd\n",
    "\n",
    "from experiments import RandomWalkDiffusionExperiment\n",
    "from models import RandomWalkDiffusion\n",
    "from priors import sample_scale"
   ]
  },
  {
   "cell_type": "code",
   "execution_count": null,
   "metadata": {},
   "outputs": [],
   "source": [
    "# If set to False, existing results will be loaded\n",
    "# Set to True if you want to re-run the experiments\n",
    "TRAIN_NETWORKS = True\n",
    "FIT_MODEL = True"
   ]
  },
  {
   "attachments": {},
   "cell_type": "markdown",
   "metadata": {},
   "source": [
    "## Neural Experiment"
   ]
  },
  {
   "cell_type": "code",
   "execution_count": null,
   "metadata": {},
   "outputs": [],
   "source": [
    "model = RandomWalkDiffusion()\n",
    "neural_experiment = RandomWalkDiffusionExperiment(model)"
   ]
  },
  {
   "attachments": {},
   "cell_type": "markdown",
   "metadata": {},
   "source": [
    "### Training"
   ]
  },
  {
   "cell_type": "code",
   "execution_count": null,
   "metadata": {},
   "outputs": [],
   "source": [
    "if TRAIN_NETWORKS:\n",
    "    history = neural_experiment.run(\n",
    "        epochs=50, \n",
    "        iterations_per_epoch=1000, \n",
    "        batch_size=8\n",
    "    )\n",
    "else:\n",
    "    history = neural_experiment.trainer.loss_history.get_plottable()"
   ]
  },
  {
   "cell_type": "code",
   "execution_count": null,
   "metadata": {},
   "outputs": [],
   "source": [
    "f = beef.diagnostics.plot_losses(history)"
   ]
  },
  {
   "attachments": {},
   "cell_type": "markdown",
   "metadata": {},
   "source": [
    "## Fitting"
   ]
  },
  {
   "cell_type": "code",
   "execution_count": null,
   "metadata": {},
   "outputs": [],
   "source": [
    "# read simulation data\n",
    "simulation_output = pd.read_pickle('../data/static_dm_data_100.pkl')\n",
    "sim_data = simulation_output['rt']\n",
    "true_param = simulation_output['theta']\n",
    "\n",
    "N_SIM = sim_data.shape[0]\n",
    "NUM_STEPS = sim_data.shape[1]\n",
    "N_SAMPLES = 4000"
   ]
  },
  {
   "cell_type": "code",
   "execution_count": null,
   "metadata": {},
   "outputs": [],
   "source": [
    "if FIT_MODEL:\n",
    "    neural_post_samples = np.zeros((N_SIM, NUM_STEPS, N_SAMPLES, 3))\n",
    "    for i in range(N_SIM):\n",
    "        neural_post_samples[i] = neural_experiment.amortizer.sample(\n",
    "            {\"summary_conditions\": sim_data[:1]},\n",
    "            N_SAMPLES\n",
    "            )['local_samples']\n",
    "    np.save('../data/neural_post_samples.npy', neural_post_samples)\n",
    "else:\n",
    "    neural_post_samples = np.load('../data/neural_post_samples.npy')"
   ]
  },
  {
   "cell_type": "code",
   "execution_count": null,
   "metadata": {},
   "outputs": [],
   "source": [
    "neural_post_samples = neural_post_samples * model.local_prior_stds + model.local_prior_means"
   ]
  },
  {
   "attachments": {},
   "cell_type": "markdown",
   "metadata": {},
   "source": [
    "## Evaluation"
   ]
  },
  {
   "cell_type": "code",
   "execution_count": null,
   "metadata": {},
   "outputs": [],
   "source": [
    "# read and prepare posteriors obtained with stan\n",
    "stan_posteriors = np.load('../data/dynamic_stan_posteriors_100.npy')\n",
    "# get posterior means\n",
    "neural_post_means = neural_post_samples.mean(axis=2)\n",
    "stan_post_means = stan_posteriors.mean(axis=2)\n",
    "# calculate absolute error between posterior means and true parameter\n",
    "neural_post_abs_error = np.empty((N_SIM, NUM_STEPS, 3))\n",
    "stan_post_abs_error = np.empty((N_SIM, NUM_STEPS, 3))\n",
    "for i in range(N_SIM):\n",
    "    neural_post_abs_error[i] = np.abs(neural_post_means[i] - true_param[i])\n",
    "    stan_post_abs_error[i] = np.abs(stan_post_means[i] - true_param[i])\n",
    "# summarize absolute errors\n",
    "neural_post_abs_error_mean = neural_post_abs_error.mean(axis=0)\n",
    "neural_post_abs_error_std = neural_post_abs_error.std(axis=0)\n",
    "stan_post_abs_error_mean = stan_post_abs_error.mean(axis=0)\n",
    "stan_post_abs_error_std = stan_post_abs_error.std(axis=0)"
   ]
  },
  {
   "cell_type": "code",
   "execution_count": null,
   "metadata": {},
   "outputs": [],
   "source": [
    "NEURAL_COLOR = '#852626'\n",
    "COMPARISON_COLOR = '#133a76'\n",
    "PARAMETER_LABELS = ['Drift rate', 'Threshold', 'Non-decision time']\n",
    "PARAMETER_NAMES = [r'$v$', r'$a$', r'$\\tau$']"
   ]
  },
  {
   "cell_type": "code",
   "execution_count": null,
   "metadata": {},
   "outputs": [],
   "source": [
    "# sanity check\n",
    "# which = 0\n",
    "# f, axarr = plt.subplots(1, 3, figsize=(20, 5))\n",
    "# for i, ax in enumerate(axarr.flat):\n",
    "#     ax.plot(np.arange(NUM_STEPS), neural_post_means[which, :, i], color=NEURAL_COLOR)\n",
    "#     ax.plot(np.arange(NUM_STEPS), np.repeat(true_param[which, i], NUM_STEPS), color=COMPARISON_COLOR)"
   ]
  },
  {
   "cell_type": "code",
   "execution_count": null,
   "metadata": {},
   "outputs": [],
   "source": [
    "f, axarr = plt.subplots(1, 3, figsize=(20, 5))\n",
    "for i, ax in enumerate(axarr.flat):\n",
    "    ax.plot(np.arange(NUM_STEPS), neural_post_abs_error_mean[:, i], color=NEURAL_COLOR)\n",
    "    ax.fill_between(\n",
    "        np.arange(NUM_STEPS),\n",
    "        neural_post_abs_error_mean[:, i] - neural_post_abs_error_std[:, i],\n",
    "        neural_post_abs_error_mean[:, i] + neural_post_abs_error_std[:, i],\n",
    "        color=NEURAL_COLOR, alpha=0.5\n",
    "    )\n",
    "    ax.plot(np.arange(NUM_STEPS), stan_post_abs_error_mean[:, i], color=COMPARISON_COLOR)\n",
    "    ax.fill_between(\n",
    "        np.arange(NUM_STEPS),\n",
    "        stan_post_abs_error_mean[:, i] - stan_post_abs_error_std[:, i],\n",
    "        stan_post_abs_error_mean[:, i] + stan_post_abs_error_std[:, i],\n",
    "        color=COMPARISON_COLOR, alpha=0.5\n",
    "    )\n",
    "\n",
    "    ax.set_title(\n",
    "        PARAMETER_LABELS[i] + ' ({})'.format(PARAMETER_NAMES[i]), fontsize=20)\n",
    "\n",
    "sns.despine()"
   ]
  }
 ],
 "metadata": {
  "kernelspec": {
   "display_name": "bfPower",
   "language": "python",
   "name": "python3"
  },
  "language_info": {
   "codemirror_mode": {
    "name": "ipython",
    "version": 3
   },
   "file_extension": ".py",
   "mimetype": "text/x-python",
   "name": "python",
   "nbconvert_exporter": "python",
   "pygments_lexer": "ipython3",
   "version": "3.10.10"
  },
  "orig_nbformat": 4
 },
 "nbformat": 4,
 "nbformat_minor": 2
}
