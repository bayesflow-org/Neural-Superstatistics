{
 "cells": [
  {
   "cell_type": "code",
   "execution_count": null,
   "id": "1b5d37b8",
   "metadata": {},
   "outputs": [],
   "source": [
    "import sys\n",
    "sys.path.append(\"../\")\n",
    "\n",
    "import numpy as np\n",
    "import matplotlib.pyplot as plt\n",
    "import seaborn as sns\n",
    "import tensorflow as tf\n",
    "import bayesflow as beef\n",
    "\n",
    "from models import RandomWalkPoissonModel\n",
    "from experiments import NeuralCoalMiningExperiment, BayesLoopCoalMiningExperiment\n",
    "from data import coal_mining_data"
   ]
  },
  {
   "cell_type": "code",
   "execution_count": null,
   "id": "9ae97a8f",
   "metadata": {},
   "outputs": [],
   "source": [
    "# gpu setting and checking\n",
    "physical_devices = tf.config.list_physical_devices('GPU')\n",
    "tf.config.experimental.set_memory_growth(physical_devices[0], enable=True)\n",
    "print(tf.config.list_physical_devices('GPU'))"
   ]
  },
  {
   "attachments": {},
   "cell_type": "markdown",
   "id": "7deb374c",
   "metadata": {},
   "source": [
    "# Neural Experiment"
   ]
  },
  {
   "cell_type": "code",
   "execution_count": null,
   "id": "740aae9d",
   "metadata": {},
   "outputs": [],
   "source": [
    "model = RandomWalkPoissonModel()"
   ]
  },
  {
   "cell_type": "code",
   "execution_count": null,
   "id": "f68fb221",
   "metadata": {},
   "outputs": [],
   "source": [
    "neural_experiment = NeuralCoalMiningExperiment(model)"
   ]
  },
  {
   "cell_type": "code",
   "execution_count": null,
   "id": "444e22b2",
   "metadata": {
    "scrolled": false
   },
   "outputs": [],
   "source": [
    "history = neural_experiment.run(epochs=25, iterations_per_epoch=1000, batch_size=32)"
   ]
  },
  {
   "cell_type": "code",
   "execution_count": null,
   "id": "153efd85",
   "metadata": {},
   "outputs": [],
   "source": [
    "h = beef.diagnostics.plot_losses(neural_experiment.trainer.loss_history.get_plottable())"
   ]
  },
  {
   "attachments": {},
   "cell_type": "markdown",
   "id": "854bca5e",
   "metadata": {},
   "source": [
    "# Bayesloop Experiment"
   ]
  },
  {
   "cell_type": "code",
   "execution_count": null,
   "id": "9bc2a9e4",
   "metadata": {},
   "outputs": [],
   "source": [
    "bayesloop_experiment = BayesLoopCoalMiningExperiment()"
   ]
  },
  {
   "cell_type": "code",
   "execution_count": null,
   "id": "f7a1a410",
   "metadata": {
    "scrolled": true
   },
   "outputs": [],
   "source": [
    "bl_post_means, bl_post_stds = bayesloop_experiment.run(coal_mining_data)"
   ]
  },
  {
   "attachments": {},
   "cell_type": "markdown",
   "id": "97c89700",
   "metadata": {},
   "source": [
    "# Evaluation"
   ]
  },
  {
   "cell_type": "code",
   "execution_count": null,
   "id": "64a4a4f6",
   "metadata": {},
   "outputs": [],
   "source": [
    "posterior_samples = neural_experiment.amortizer.sample(\n",
    "    np.log1p(coal_mining_data[\"disasters\"][None, :, None]), 1000\n",
    ")"
   ]
  },
  {
   "cell_type": "code",
   "execution_count": null,
   "id": "9a708526",
   "metadata": {},
   "outputs": [],
   "source": [
    "local_samples = np.expm1(posterior_samples[\"local_samples\"])\n",
    "post_mean = local_samples.mean(axis=0)\n",
    "post_std = local_samples.std(axis=0)"
   ]
  },
  {
   "cell_type": "code",
   "execution_count": null,
   "id": "f627c1b2",
   "metadata": {},
   "outputs": [],
   "source": [
    "EMPIRIC_COLOR = '#1F1F1F'\n",
    "NEURAL_COLOR = '#852626'\n",
    "COMPARISON_COLOR = '#133a76'"
   ]
  },
  {
   "cell_type": "code",
   "execution_count": null,
   "id": "45bf0a68",
   "metadata": {},
   "outputs": [],
   "source": [
    "time = coal_mining_data[\"year\"]\n",
    "plt.figure(figsize=(14, 8))\n",
    "plt.plot(time, post_mean, alpha=0.9, color=NEURAL_COLOR)\n",
    "plt.fill_between(\n",
    "    time,\n",
    "    post_mean + post_std,\n",
    "    post_mean - post_std,\n",
    "    alpha=0.6,\n",
    "    label=\"Neural\",\n",
    "    edgecolor=\"none\",\n",
    "    color=NEURAL_COLOR\n",
    ")\n",
    "\n",
    "plt.plot(time, bl_post_means, alpha=0.9, color=COMPARISON_COLOR)\n",
    "plt.fill_between(\n",
    "    time,\n",
    "    bl_post_means + bl_post_stds,\n",
    "    bl_post_means - bl_post_stds,\n",
    "    alpha=0.6,\n",
    "    label='BayesLoop',\n",
    "    edgecolor=\"none\",\n",
    "    color=COMPARISON_COLOR\n",
    ")\n",
    "\n",
    "plt.bar(\n",
    "    time,\n",
    "    coal_mining_data[\"disasters\"],\n",
    "    align=\"center\",\n",
    "    facecolor=\"gray\",\n",
    "    alpha=0.6,\n",
    "    label=\"Accident counts\",\n",
    ")\n",
    "\n",
    "plt.ylabel(\"Accident rate\", fontsize=28)\n",
    "plt.xlabel(\"Year\", fontsize=28)\n",
    "plt.tick_params(axis=\"both\", which=\"major\", length=10, labelsize=24)\n",
    "\n",
    "plt.legend(fontsize=24)\n",
    "sns.despine()\n",
    "plt.tight_layout()\n",
    "\n",
    "plt.savefig('../plots/coal_mining_benchmark.png', dpi=300)"
   ]
  },
  {
   "cell_type": "code",
   "execution_count": null,
   "id": "2295dd9d",
   "metadata": {},
   "outputs": [],
   "source": []
  }
 ],
 "metadata": {
  "kernelspec": {
   "display_name": "Python 3 (ipykernel)",
   "language": "python",
   "name": "python3"
  },
  "language_info": {
   "codemirror_mode": {
    "name": "ipython",
    "version": 3
   },
   "file_extension": ".py",
   "mimetype": "text/x-python",
   "name": "python",
   "nbconvert_exporter": "python",
   "pygments_lexer": "ipython3",
   "version": "3.10.10"
  },
  "toc": {
   "base_numbering": 1,
   "nav_menu": {},
   "number_sections": true,
   "sideBar": true,
   "skip_h1_title": false,
   "title_cell": "Table of Contents",
   "title_sidebar": "Contents",
   "toc_cell": false,
   "toc_position": {},
   "toc_section_display": true,
   "toc_window_display": false
  }
 },
 "nbformat": 4,
 "nbformat_minor": 5
}
