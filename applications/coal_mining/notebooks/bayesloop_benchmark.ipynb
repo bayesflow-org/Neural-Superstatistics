{
 "cells": [
  {
   "cell_type": "code",
   "execution_count": 1,
   "id": "1b5d37b8",
   "metadata": {},
   "outputs": [
    {
     "name": "stderr",
     "output_type": "stream",
     "text": [
      "2023-06-12 11:33:45.993893: I tensorflow/core/platform/cpu_feature_guard.cc:182] This TensorFlow binary is optimized to use available CPU instructions in performance-critical operations.\n",
      "To enable the following instructions: AVX2 FMA, in other operations, rebuild TensorFlow with the appropriate compiler flags.\n",
      "2023-06-12 11:33:46.637111: W tensorflow/compiler/tf2tensorrt/utils/py_utils.cc:38] TF-TRT Warning: Could not find TensorRT\n",
      "/home/divergence/anaconda3/envs/bfPower/lib/python3.10/site-packages/bayesflow/trainers.py:26: TqdmExperimentalWarning: Using `tqdm.autonotebook.tqdm` in notebook mode. Use `tqdm.tqdm` instead to force console mode (e.g. in jupyter console)\n",
      "  from tqdm.autonotebook import tqdm\n"
     ]
    },
    {
     "ename": "ModuleNotFoundError",
     "evalue": "No module named 'bayesloop'",
     "output_type": "error",
     "traceback": [
      "\u001b[0;31m---------------------------------------------------------------------------\u001b[0m",
      "\u001b[0;31mModuleNotFoundError\u001b[0m                       Traceback (most recent call last)",
      "Cell \u001b[0;32mIn[1], line 10\u001b[0m\n\u001b[1;32m      7\u001b[0m \u001b[38;5;28;01mimport\u001b[39;00m \u001b[38;5;21;01mseaborn\u001b[39;00m \u001b[38;5;28;01mas\u001b[39;00m \u001b[38;5;21;01msns\u001b[39;00m\n\u001b[1;32m      9\u001b[0m \u001b[38;5;28;01mfrom\u001b[39;00m \u001b[38;5;21;01mmodels\u001b[39;00m \u001b[38;5;28;01mimport\u001b[39;00m RandomWalkPoissonModel\n\u001b[0;32m---> 10\u001b[0m \u001b[38;5;28;01mfrom\u001b[39;00m \u001b[38;5;21;01mexperiments\u001b[39;00m \u001b[38;5;28;01mimport\u001b[39;00m NeuralCoalMiningExperiment\n\u001b[1;32m     11\u001b[0m \u001b[38;5;28;01mfrom\u001b[39;00m \u001b[38;5;21;01mdata\u001b[39;00m \u001b[38;5;28;01mimport\u001b[39;00m coal_mining_data\n",
      "File \u001b[0;32m~/Documents/GitHub/Neural-Superstatistics/applications/coal_mining/notebooks/../experiments.py:3\u001b[0m\n\u001b[1;32m      1\u001b[0m \u001b[38;5;28;01mimport\u001b[39;00m \u001b[38;5;21;01mtensorflow\u001b[39;00m \u001b[38;5;28;01mas\u001b[39;00m \u001b[38;5;21;01mtf\u001b[39;00m\n\u001b[1;32m      2\u001b[0m \u001b[38;5;28;01mimport\u001b[39;00m \u001b[38;5;21;01mbayesflow\u001b[39;00m \u001b[38;5;28;01mas\u001b[39;00m \u001b[38;5;21;01mbf\u001b[39;00m\n\u001b[0;32m----> 3\u001b[0m \u001b[38;5;28;01mimport\u001b[39;00m \u001b[38;5;21;01mbayesloop\u001b[39;00m \u001b[38;5;28;01mas\u001b[39;00m \u001b[38;5;21;01mbl\u001b[39;00m\n\u001b[1;32m      4\u001b[0m \u001b[38;5;28;01mimport\u001b[39;00m \u001b[38;5;21;01msympy\u001b[39;00m\n\u001b[1;32m      6\u001b[0m \u001b[38;5;28;01mfrom\u001b[39;00m \u001b[38;5;21;01mcustom_network\u001b[39;00m \u001b[38;5;28;01mimport\u001b[39;00m OneDimensionalAmortizer\n",
      "\u001b[0;31mModuleNotFoundError\u001b[0m: No module named 'bayesloop'"
     ]
    }
   ],
   "source": [
    "import sys\n",
    "\n",
    "sys.path.append(\"../\")\n",
    "\n",
    "import numpy as np\n",
    "import matplotlib.pyplot as plt\n",
    "import seaborn as sns\n",
    "\n",
    "from models import RandomWalkPoissonModel\n",
    "from experiments import NeuralCoalMiningExperiment\n",
    "from data import coal_mining_data"
   ]
  },
  {
   "cell_type": "markdown",
   "id": "23200052",
   "metadata": {},
   "source": [
    "# Model and Experiment"
   ]
  },
  {
   "cell_type": "code",
   "execution_count": null,
   "id": "740aae9d",
   "metadata": {},
   "outputs": [],
   "source": [
    "model = RandomWalkPoissonModel()"
   ]
  },
  {
   "cell_type": "code",
   "execution_count": null,
   "id": "f68fb221",
   "metadata": {},
   "outputs": [],
   "source": [
    "experiment = NeuralCoalMiningExperiment(model)"
   ]
  },
  {
   "cell_type": "code",
   "execution_count": null,
   "id": "444e22b2",
   "metadata": {},
   "outputs": [],
   "source": [
    "history = experiment.run(epochs=10, iterations_per_epoch=1000, batch_size=32)"
   ]
  },
  {
   "cell_type": "markdown",
   "id": "97c89700",
   "metadata": {},
   "source": [
    "# Evaluation"
   ]
  },
  {
   "cell_type": "code",
   "execution_count": null,
   "id": "64a4a4f6",
   "metadata": {},
   "outputs": [],
   "source": [
    "posterior_samples = experiment.amortizer.sample(\n",
    "    np.log1p(coal_mining_data[\"disasters\"][None, :, None]), 1000\n",
    ")"
   ]
  },
  {
   "cell_type": "code",
   "execution_count": null,
   "id": "9a708526",
   "metadata": {},
   "outputs": [],
   "source": [
    "local_samples = np.expm1(posterior_samples[\"local_samples\"])\n",
    "post_mean = local_samples.mean(axis=0)\n",
    "post_std = local_samples.std(axis=0)"
   ]
  },
  {
   "cell_type": "code",
   "execution_count": null,
   "id": "45bf0a68",
   "metadata": {},
   "outputs": [],
   "source": [
    "time = coal_mining_data[\"year\"]\n",
    "plt.figure(figsize=(14, 8))\n",
    "plt.plot(time, post_mean, alpha=0.9, color=\"maroon\")\n",
    "plt.fill_between(\n",
    "    time,\n",
    "    post_mean + post_std,\n",
    "    post_mean - post_std,\n",
    "    alpha=0.3,\n",
    "    label=\"Neural\",\n",
    "    edgecolor=\"none\",\n",
    "    color=\"maroon\",\n",
    ")\n",
    "\n",
    "plt.bar(\n",
    "    time,\n",
    "    coal_mining_data[\"disasters\"],\n",
    "    align=\"center\",\n",
    "    facecolor=\"gray\",\n",
    "    alpha=0.6,\n",
    "    label=\"Accident counts\",\n",
    ")\n",
    "\n",
    "plt.ylabel(\"Accident rate\", fontsize=28)\n",
    "plt.xlabel(\"Year\", fontsize=28)\n",
    "plt.tick_params(axis=\"both\", which=\"major\", length=10, labelsize=24)\n",
    "\n",
    "plt.legend(fontsize=24)\n",
    "sns.despine()\n",
    "plt.tight_layout()"
   ]
  }
 ],
 "metadata": {
  "kernelspec": {
   "display_name": "Python 3 (ipykernel)",
   "language": "python",
   "name": "python3"
  },
  "language_info": {
   "codemirror_mode": {
    "name": "ipython",
    "version": 3
   },
   "file_extension": ".py",
   "mimetype": "text/x-python",
   "name": "python",
   "nbconvert_exporter": "python",
   "pygments_lexer": "ipython3",
   "version": "3.10.11"
  },
  "toc": {
   "base_numbering": 1,
   "nav_menu": {},
   "number_sections": true,
   "sideBar": true,
   "skip_h1_title": false,
   "title_cell": "Table of Contents",
   "title_sidebar": "Contents",
   "toc_cell": false,
   "toc_position": {},
   "toc_section_display": true,
   "toc_window_display": false
  }
 },
 "nbformat": 4,
 "nbformat_minor": 5
}
