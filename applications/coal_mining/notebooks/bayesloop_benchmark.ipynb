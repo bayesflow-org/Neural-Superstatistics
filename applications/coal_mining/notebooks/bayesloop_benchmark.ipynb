{
 "cells": [
  {
   "cell_type": "code",
   "execution_count": null,
   "id": "1b5d37b8",
   "metadata": {},
   "outputs": [],
   "source": [
    "import sys\n",
    "\n",
    "sys.path.append(\"../\")\n",
    "\n",
    "import numpy as np\n",
    "import matplotlib.pyplot as plt\n",
    "import seaborn as sns\n",
    "\n",
    "from models import RandomWalkPoissonModel\n",
    "from experiments import NeuralCoalMiningExperiment\n",
    "from data import coal_mining_data"
   ]
  },
  {
   "attachments": {},
   "cell_type": "markdown",
   "id": "23200052",
   "metadata": {},
   "source": [
    "# Model and Experiment"
   ]
  },
  {
   "cell_type": "code",
   "execution_count": null,
   "id": "740aae9d",
   "metadata": {},
   "outputs": [],
   "source": [
    "model = RandomWalkPoissonModel()"
   ]
  },
  {
   "cell_type": "code",
   "execution_count": null,
   "id": "f68fb221",
   "metadata": {},
   "outputs": [],
   "source": [
    "experiment = NeuralCoalMiningExperiment(model)"
   ]
  },
  {
   "cell_type": "code",
   "execution_count": null,
   "id": "444e22b2",
   "metadata": {},
   "outputs": [],
   "source": [
    "history = experiment.run(epochs=10, iterations_per_epoch=1000, batch_size=32)"
   ]
  },
  {
   "attachments": {},
   "cell_type": "markdown",
   "id": "97c89700",
   "metadata": {},
   "source": [
    "# Evaluation"
   ]
  },
  {
   "cell_type": "code",
   "execution_count": null,
   "id": "64a4a4f6",
   "metadata": {},
   "outputs": [],
   "source": [
    "posterior_samples = experiment.amortizer.sample(\n",
    "    np.log1p(coal_mining_data[\"disasters\"][None, :, None]), 1000\n",
    ")"
   ]
  },
  {
   "cell_type": "code",
   "execution_count": null,
   "id": "9a708526",
   "metadata": {},
   "outputs": [],
   "source": [
    "local_samples = np.expm1(posterior_samples[\"local_samples\"])\n",
    "post_mean = local_samples.mean(axis=0)\n",
    "post_std = local_samples.std(axis=0)"
   ]
  },
  {
   "cell_type": "code",
   "execution_count": null,
   "id": "45bf0a68",
   "metadata": {},
   "outputs": [],
   "source": [
    "time = coal_mining_data[\"year\"]\n",
    "plt.figure(figsize=(14, 8))\n",
    "plt.plot(time, post_mean, alpha=0.9, color=\"maroon\")\n",
    "plt.fill_between(\n",
    "    time,\n",
    "    post_mean + post_std,\n",
    "    post_mean - post_std,\n",
    "    alpha=0.3,\n",
    "    label=\"Neural\",\n",
    "    edgecolor=\"none\",\n",
    "    color=\"maroon\",\n",
    ")\n",
    "\n",
    "plt.bar(\n",
    "    time,\n",
    "    coal_mining_data[\"disasters\"],\n",
    "    align=\"center\",\n",
    "    facecolor=\"gray\",\n",
    "    alpha=0.6,\n",
    "    label=\"Accident counts\",\n",
    ")\n",
    "\n",
    "plt.ylabel(\"Accident rate\", fontsize=28)\n",
    "plt.xlabel(\"Year\", fontsize=28)\n",
    "plt.tick_params(axis=\"both\", which=\"major\", length=10, labelsize=24)\n",
    "\n",
    "plt.legend(fontsize=24)\n",
    "sns.despine()\n",
    "plt.tight_layout()"
   ]
  }
 ],
 "metadata": {
  "kernelspec": {
   "display_name": "Python 3",
   "language": "python",
   "name": "python3"
  },
  "language_info": {
   "codemirror_mode": {
    "name": "ipython",
    "version": 3
   },
   "file_extension": ".py",
   "mimetype": "text/x-python",
   "name": "python",
   "nbconvert_exporter": "python",
   "pygments_lexer": "ipython3",
   "version": "3.10.10"
  },
  "toc": {
   "base_numbering": 1,
   "nav_menu": {},
   "number_sections": true,
   "sideBar": true,
   "skip_h1_title": false,
   "title_cell": "Table of Contents",
   "title_sidebar": "Contents",
   "toc_cell": false,
   "toc_position": {},
   "toc_section_display": true,
   "toc_window_display": false
  }
 },
 "nbformat": 4,
 "nbformat_minor": 5
}
