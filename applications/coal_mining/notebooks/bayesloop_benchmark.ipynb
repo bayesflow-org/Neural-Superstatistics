{
 "cells": [
  {
   "cell_type": "code",
   "execution_count": 97,
   "id": "0e7455da",
   "metadata": {},
   "outputs": [
    {
     "name": "stdout",
     "output_type": "stream",
     "text": [
      "The autoreload extension is already loaded. To reload it, use:\n",
      "  %reload_ext autoreload\n"
     ]
    }
   ],
   "source": [
    "%load_ext autoreload\n",
    "%autoreload 2"
   ]
  },
  {
   "cell_type": "code",
   "execution_count": 98,
   "id": "7976f9cf",
   "metadata": {},
   "outputs": [],
   "source": [
    "import sys\n",
    "sys.path.append('../')\n",
    "\n",
    "import matplotlib.pyplot as plt\n",
    "import seaborn as sns\n",
    "\n",
    "from models import PoissonRandomWalk\n",
    "from experiments import CoalMiningExperiment\n",
    "from data import coal_mining_data"
   ]
  },
  {
   "cell_type": "markdown",
   "id": "6d50d70a",
   "metadata": {},
   "source": [
    "# Model and Experiment"
   ]
  },
  {
   "cell_type": "code",
   "execution_count": 99,
   "id": "89af46bf",
   "metadata": {},
   "outputs": [
    {
     "name": "stderr",
     "output_type": "stream",
     "text": [
      "INFO:root:Performing 2 pilot runs with the poisson_model model...\n",
      "INFO:root:Shape of parameter batch after 2 pilot simulations: (batch_size = 2, 110)\n",
      "INFO:root:Shape of simulation batch after 2 pilot simulations: (batch_size = 2, 110)\n",
      "INFO:root:Shape of hyper_prior_draws batch after 2 pilot simulations: (batch_size = 2, )\n",
      "INFO:root:Shape of local_prior_draws batch after 2 pilot simulations: (batch_size = 2, 110)\n",
      "INFO:root:No shared_prior_draws provided.\n",
      "INFO:root:No optional simulation batchable context provided.\n",
      "INFO:root:No optional simulation non-batchable context provided.\n",
      "INFO:root:No optional prior batchable context provided.\n",
      "INFO:root:No optional prior non-batchable context provided.\n"
     ]
    }
   ],
   "source": [
    "model = PoissonRandomWalk()"
   ]
  },
  {
   "cell_type": "code",
   "execution_count": 100,
   "id": "1054c7db",
   "metadata": {},
   "outputs": [
    {
     "name": "stderr",
     "output_type": "stream",
     "text": [
      "INFO:root:Initialized empty loss history.\n",
      "INFO:root:Initialized empty simulation memory.\n",
      "INFO:root:Initialized networks from scratch.\n",
      "INFO:root:Performing a consistency check with provided components...\n",
      "INFO:root:Done.\n"
     ]
    }
   ],
   "source": [
    "experiment = CoalMiningExperiment(model)"
   ]
  },
  {
   "cell_type": "code",
   "execution_count": null,
   "id": "8df6fad7",
   "metadata": {},
   "outputs": [
    {
     "data": {
      "application/vnd.jupyter.widget-view+json": {
       "model_id": "5577c256c4374125b1a9a337c14f6ab9",
       "version_major": 2,
       "version_minor": 0
      },
      "text/plain": [
       "Training epoch 1:   0%|          | 0/1000 [00:00<?, ?it/s]"
      ]
     },
     "metadata": {},
     "output_type": "display_data"
    },
    {
     "data": {
      "application/vnd.jupyter.widget-view+json": {
       "model_id": "c66ebfbcfe9b406f8c676d0d9a4ac6e2",
       "version_major": 2,
       "version_minor": 0
      },
      "text/plain": [
       "Training epoch 2:   0%|          | 0/1000 [00:00<?, ?it/s]"
      ]
     },
     "metadata": {},
     "output_type": "display_data"
    },
    {
     "data": {
      "application/vnd.jupyter.widget-view+json": {
       "model_id": "d4d4394dd67a43048d346735e1192249",
       "version_major": 2,
       "version_minor": 0
      },
      "text/plain": [
       "Training epoch 3:   0%|          | 0/1000 [00:00<?, ?it/s]"
      ]
     },
     "metadata": {},
     "output_type": "display_data"
    }
   ],
   "source": [
    "history = experiment.run(epochs=25, iterations_per_epoch=1000, batch_size=32)"
   ]
  },
  {
   "cell_type": "markdown",
   "id": "01d719b4",
   "metadata": {},
   "source": [
    "# Evaluation"
   ]
  },
  {
   "cell_type": "code",
   "execution_count": null,
   "id": "09d23669",
   "metadata": {},
   "outputs": [],
   "source": [
    "posterior_samples = experiment.amortizer.sample(coal_mining_data['disasters'][None, :, None], 1000)"
   ]
  },
  {
   "cell_type": "code",
   "execution_count": null,
   "id": "bf90e147",
   "metadata": {},
   "outputs": [],
   "source": [
    "local_samples = np.expm1(posterior_samples['local_samples'])\n",
    "post_mean = local_samples.mean(axis=0)\n",
    "post_std = local_samples.std(axis=0)"
   ]
  },
  {
   "cell_type": "code",
   "execution_count": null,
   "id": "5c7bf1d7",
   "metadata": {},
   "outputs": [],
   "source": [
    "time = coal_mining_data['year']\n",
    "plt.figure(figsize=(14, 8))\n",
    "plt.plot(time, post_mean, alpha=0.9, color='maroon')\n",
    "plt.fill_between(time, post_mean+post_std, post_std-post_std, alpha=0.3, label='Neural', edgecolor=\"none\", color='maroon')\n",
    "\n",
    "plt.bar(time, coal_mining_data['disasters'], align='center', facecolor='gray', alpha=0.6, label=\"Accident counts\")\n",
    "\n",
    "plt.ylabel('Accident rate', fontsize=28)\n",
    "plt.xlabel('Year', fontsize=28)\n",
    "plt.tick_params(axis='both', which='major', length=10, labelsize=24)\n",
    "\n",
    "plt.legend(fontsize=24)\n",
    "sns.despine()\n",
    "plt.tight_layout()"
   ]
  },
  {
   "cell_type": "code",
   "execution_count": null,
   "id": "da1c6b7a",
   "metadata": {},
   "outputs": [],
   "source": []
  }
 ],
 "metadata": {
  "kernelspec": {
   "display_name": "Python 3",
   "language": "python",
   "name": "python3"
  },
  "language_info": {
   "codemirror_mode": {
    "name": "ipython",
    "version": 3
   },
   "file_extension": ".py",
   "mimetype": "text/x-python",
   "name": "python",
   "nbconvert_exporter": "python",
   "pygments_lexer": "ipython3",
   "version": "3.9.13"
  },
  "toc": {
   "base_numbering": 1,
   "nav_menu": {},
   "number_sections": true,
   "sideBar": true,
   "skip_h1_title": false,
   "title_cell": "Table of Contents",
   "title_sidebar": "Contents",
   "toc_cell": false,
   "toc_position": {},
   "toc_section_display": true,
   "toc_window_display": false
  }
 },
 "nbformat": 4,
 "nbformat_minor": 5
}
