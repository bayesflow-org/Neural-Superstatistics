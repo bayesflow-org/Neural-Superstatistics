{
 "cells": [
  {
   "cell_type": "code",
   "execution_count": null,
   "metadata": {},
   "outputs": [],
   "source": [
    "# essentials\n",
    "import numpy as np\n",
    "import tensorflow as tf\n",
    "from tensorflow.keras.utils import to_categorical\n",
    "import seaborn as sns\n",
    "import matplotlib.pyplot as plt\n",
    "import pandas as pd\n",
    "from pathlib import Path\n",
    "import os, sys\n",
    "from scipy.stats import gamma, beta\n",
    "\n",
    "# bayesflow\n",
    "sys.path.append(os.path.abspath(os.path.join('../../BayesFlow')))\n",
    "from bayesflow.computational_utilities import simultaneous_ecdf_bands"
   ]
  },
  {
   "cell_type": "code",
   "execution_count": null,
   "metadata": {},
   "outputs": [],
   "source": [
    "sys.path.append(\"../src\")\n",
    "from helpers import build_distance_matrix\n",
    "from macro_models import batched_gaussian_process\n",
    "from priors import diffusion_prior, length_scale_prior\n",
    "from micro_models import dynamic_batch_diffusion, fast_dm_simulate, diffusion_trial\n",
    "from networks import DynamicGaussianNetworkJoint\n",
    "from context import generate_design_matrix\n",
    "from transformations import unscale_z, scale_z"
   ]
  },
  {
   "cell_type": "code",
   "execution_count": null,
   "metadata": {},
   "outputs": [],
   "source": [
    "physical_devices = tf.config.list_physical_devices('GPU')\n",
    "tf.config.experimental.set_memory_growth(physical_devices[0], enable=True)\n",
    "print(tf.config.list_physical_devices('GPU'))\n",
    "\n",
    "# physical_devices = tf.config.list_physical_devices('CPU')\n",
    "# tf.config.set_visible_devices([], 'GPU')\n",
    "# os.environ[\"CUDA_VISIBLE_DEVICES\"]=\"-1\" "
   ]
  },
  {
   "cell_type": "code",
   "execution_count": null,
   "metadata": {},
   "outputs": [],
   "source": [
    "N_OBS         = 3200\n",
    "T             = 3200\n",
    "N_PARAMS      = 6\n",
    "N_SBC         = 2000\n",
    "N_SAMPLES_SBC = 200\n",
    "\n",
    "DIST_MAT = build_distance_matrix(N_OBS)\n",
    "AMPLITUDES = [0.1, 0.1, 0.1, 0.1, 0.05, 0.05]\n",
    "\n",
    "TIME_SLICES = np.array([800, 1600, 2400, 3200]) - 1"
   ]
  },
  {
   "cell_type": "code",
   "execution_count": null,
   "metadata": {},
   "outputs": [],
   "source": [
    "MACRO_MEAN = [5.0, 5.0, 5.0, 5.0, 5.0, 5.0]\n",
    "MACRO_STD = [2.8, 2.8, 2.8, 2.8, 2.8, 2.8]\n",
    "\n",
    "MICRO_MEAN = [1.3, 1.3, 1.3, 1.3, 1.3, 0.3]\n",
    "MICRO_STD = [1.0, 1.0, 1.0, 1.0, 0.75, 0.25]"
   ]
  },
  {
   "cell_type": "code",
   "execution_count": null,
   "metadata": {},
   "outputs": [],
   "source": [
    "def generator_fun(batch_size):\n",
    "    repeat = True\n",
    "    while repeat:\n",
    "        theta0 = diffusion_prior(batch_size, n_cond=N_PARAMS-2)\n",
    "        eta = length_scale_prior(batch_size, N_PARAMS)\n",
    "        theta_t = batched_gaussian_process(theta0, DIST_MAT, eta, amplitudes=AMPLITUDES)\n",
    "        if min(theta_t[:, :, 4].flatten()) > 0.059:\n",
    "            repeat = False\n",
    "            \n",
    "    context = generate_design_matrix(batch_size, T)\n",
    "\n",
    "    rt = dynamic_batch_diffusion(theta_t, context)\n",
    "    x = np.concatenate((rt, to_categorical(context[:, :, np.newaxis])), axis=-1)\n",
    "\n",
    "    eta_z = scale_z(eta, MACRO_MEAN, MACRO_STD)\n",
    "    theta_t_z = scale_z(theta_t, MICRO_MEAN, MICRO_STD)\n",
    "\n",
    "    return eta_z.astype(np.float32), theta_t_z.astype(np.float32), x.astype(np.float32)"
   ]
  },
  {
   "cell_type": "code",
   "execution_count": null,
   "metadata": {},
   "outputs": [],
   "source": [
    "network_settings = {\n",
    "    'embedding_lstm_units' : 512, \n",
    "    'embedding_gru_units': 512,\n",
    "    'embedding_dense_args': dict(units=256, activation='selu', kernel_initializer='lecun_normal'),\n",
    "    'posterior_dense_args': dict(units=128, activation='selu', kernel_initializer='lecun_normal'),\n",
    "    'n_micro_params': 6,\n",
    "    'n_macro_params': 6\n",
    "}\n",
    "network = DynamicGaussianNetworkJoint(network_settings)"
   ]
  },
  {
   "cell_type": "code",
   "execution_count": null,
   "metadata": {},
   "outputs": [],
   "source": [
    "network.load_weights('../trained_networks/full_gp_ddm_joint')"
   ]
  },
  {
   "cell_type": "markdown",
   "metadata": {},
   "source": [
    "## SBC"
   ]
  },
  {
   "cell_type": "code",
   "execution_count": null,
   "metadata": {},
   "outputs": [],
   "source": [
    "def presimulate_data():\n",
    "    for n in range(N_SBC):\n",
    "        eta_z, theta_t_z, x = generator_fun(1)\n",
    "        np.save(f'../data/sbc_data/data/x_{n}.npy', x)\n",
    "        np.save(f'../data/sbc_data/parameters/eta/eta_eta_params_{n}.npy', eta_z)\n",
    "        np.save(f'../data/sbc_data/parameters/theta/theta_theta_params_{n}.npy', theta_t_z)"
   ]
  },
  {
   "cell_type": "code",
   "execution_count": null,
   "metadata": {},
   "outputs": [],
   "source": [
    "# presimulate_data()"
   ]
  },
  {
   "cell_type": "code",
   "execution_count": null,
   "metadata": {},
   "outputs": [],
   "source": [
    "eta_z = np.zeros((N_SBC, N_PARAMS))\n",
    "theta_t_z = np.zeros((N_SBC, N_OBS, N_PARAMS))\n",
    "data = np.zeros((N_SBC, N_OBS, 5))\n",
    "for n in range(N_SBC):\n",
    "    eta_z[n] = np.load(f'../data/sbc_data/parameters/eta/eta_eta_params_{n}.npy')\n",
    "    theta_t_z[n] = np.load(f'../data/sbc_data/parameters/theta/theta_theta_params_{n}.npy')\n",
    "    data[n] = np.load(f'../data/sbc_data/data/x_{n}.npy')"
   ]
  },
  {
   "cell_type": "code",
   "execution_count": null,
   "metadata": {},
   "outputs": [],
   "source": [
    "true_theta = unscale_z(theta_t_z, MICRO_MEAN, MICRO_STD)\n",
    "true_eta = unscale_z(eta_z, MACRO_MEAN, MACRO_STD)"
   ]
  },
  {
   "cell_type": "code",
   "execution_count": null,
   "metadata": {},
   "outputs": [],
   "source": [
    "n_chunks = 200\n",
    "chunk_len = int(data.shape[0] / n_chunks)\n",
    "chunk_len"
   ]
  },
  {
   "cell_type": "code",
   "execution_count": null,
   "metadata": {},
   "outputs": [],
   "source": [
    "%%time\n",
    "counter = 0\n",
    "theta_z_pred = np.zeros((N_SAMPLES_SBC, N_SBC, len(TIME_SLICES), N_PARAMS))\n",
    "eta_z_pred = np.zeros((N_SAMPLES_SBC, N_SBC, N_PARAMS))\n",
    "for x in tf.split(data, n_chunks, axis=0):\n",
    "    dists = network(x)\n",
    "    post = dists.sample(N_SAMPLES_SBC).numpy()\n",
    "    theta_z_pred[:, counter*chunk_len:(counter+1)*chunk_len] = post[:, :, TIME_SLICES, 6:]\n",
    "    eta_z_pred[:, counter*chunk_len:(counter+1)*chunk_len] = post[:, :, -1, :6]\n",
    "    print(counter)\n",
    "    counter += 1"
   ]
  },
  {
   "cell_type": "code",
   "execution_count": null,
   "metadata": {},
   "outputs": [],
   "source": [
    "theta_pred = unscale_z(theta_z_pred, MICRO_MEAN, MICRO_STD)\n",
    "eta_pred = unscale_z(eta_z_pred, MACRO_MEAN, MACRO_STD)"
   ]
  },
  {
   "cell_type": "code",
   "execution_count": null,
   "metadata": {},
   "outputs": [],
   "source": [
    "theta_pred_sbc = np.transpose(theta_pred, (1, 0, 2, 3))\n",
    "\n",
    "theta_pred_means = np.mean(theta_pred, axis=0)\n",
    "theta_pred_stds = np.std(theta_pred, axis=0)\n",
    "eta_pred_mean = np.mean(eta_pred, axis=0)\n",
    "eta_pred_std = np.std(eta_pred, axis=0)"
   ]
  },
  {
   "cell_type": "code",
   "execution_count": null,
   "metadata": {},
   "outputs": [],
   "source": [
    "import matplotlib\n",
    "matplotlib.rcParams['font.sans-serif'] = \"Palatino\"\n",
    "matplotlib.rcParams['font.family'] = \"sans-serif\"\n",
    "\n",
    "FONT_SIZE_1 = 20\n",
    "FONT_SIZE_2 = 20\n",
    "FONT_SIZE_3 = 18\n",
    "FONT_SIZE_4 = 16\n",
    "\n",
    "PARAM_LABELS = ['Drift rate 1', 'Drift rate 2', 'Drift rate 3', 'Drift rate 4', 'Threshold', 'Non-decision time']\n",
    "PARAM_NAMES  = [r'$v_1$', r'$v_2$', r'$v_3$', r'$v_4$', r'$a$', r'$\\tau$']"
   ]
  },
  {
   "cell_type": "code",
   "execution_count": null,
   "metadata": {},
   "outputs": [],
   "source": [
    "def plot_sbc_ecdf(post, prior, fill_color='grey', difference=True, **kwargs):\n",
    "\n",
    "    fig = plt.figure(figsize=(19, 16), constrained_layout=True)\n",
    "\n",
    "    # create 4x1 subfigs\n",
    "    subfigs = fig.subfigures(nrows=len(TIME_SLICES), ncols=1)\n",
    "    for row, subfig in enumerate(subfigs):\n",
    "        subfig.suptitle(f'$t = {(TIME_SLICES+1)[row]}$', fontsize=FONT_SIZE_1, fontweight='bold')\n",
    "\n",
    "        post_samples = post[:, :, row, :]\n",
    "        prior_samples = prior[:, TIME_SLICES[row], :]\n",
    "\n",
    "        # Store reference to number of parameters\n",
    "        n_params = post_samples.shape[-1]\n",
    "        \n",
    "        # Compute fractional ranks (using broadcasting)    \n",
    "        ranks = np.sum(post_samples < prior_samples[:, np.newaxis, :], axis=1) / post_samples.shape[1]\n",
    "\n",
    "        # Compute uniform ECDF and bands\n",
    "        alpha, z, L, H = simultaneous_ecdf_bands(post_samples.shape[0], **kwargs.pop('ecdf_bands_kwargs', {}))\n",
    "\n",
    "        if difference:\n",
    "            L -= z\n",
    "            H -= z\n",
    "\n",
    "        # create 1x6 subplots per subfig\n",
    "        axs = subfig.subplots(nrows=1, ncols=6)\n",
    "        for col, ax in enumerate(axs):\n",
    "            ecdf_single = np.sort(ranks[:, col])\n",
    "            xx = ecdf_single\n",
    "            yy = np.arange(1, xx.shape[-1]+1)/float(xx.shape[-1])\n",
    "            \n",
    "            if difference:\n",
    "                yy -= xx\n",
    "            \n",
    "            if col == 0:\n",
    "                ax.plot(xx, yy, color='#852626', alpha=0.8, label='Rank ECDF', lw=1)\n",
    "                ax.fill_between(z, L, H, color=fill_color, linewidth=0, alpha=0.3, label=f'{int((1-alpha) * 100)}% Confidence Bands')\n",
    "            else:\n",
    "                ax.plot(xx, yy, color='#852626', alpha=0.8, lw=1)\n",
    "                ax.fill_between(z, L, H, color=fill_color, linewidth=0, alpha=0.3)\n",
    "\n",
    "            # ax.grid(alpha=0.2)\n",
    "            ax.tick_params(axis='both', which='major', labelsize=FONT_SIZE_4)\n",
    "            sns.despine(ax=ax)\n",
    "\n",
    "            if row == 0:\n",
    "                ax.set_title(PARAM_LABELS[col] + ' ({})'.format(PARAM_NAMES[col]), fontsize=FONT_SIZE_2)\n",
    "                if col == 0:\n",
    "                    ax.set_xlabel('Fractional rank statistic', fontsize=FONT_SIZE_3)\n",
    "                    if difference:\n",
    "                        ylab = 'ECDF difference'\n",
    "                    else:\n",
    "                        ylab = 'ECDF'\n",
    "                    ax.set_ylabel(ylab, fontsize=FONT_SIZE_3)\n",
    "            else:\n",
    "                ax.set_title(' ', fontsize=FONT_SIZE_2)\n",
    "                if col == 0:\n",
    "                    ax.set_xlabel(' ', fontsize=FONT_SIZE_3)\n",
    "                    ax.set_ylabel(' ', fontsize=FONT_SIZE_3)\n",
    "\n",
    "\n",
    "    subfigs[3].legend(fontsize=FONT_SIZE_3, bbox_to_anchor=(0.5, -0.05), loc='center', ncol=2)\n",
    "\n",
    "    plt.savefig(\"../plots/sbc_gpddm.pdf\", dpi=300, bbox_inches=\"tight\")"
   ]
  },
  {
   "cell_type": "code",
   "execution_count": null,
   "metadata": {},
   "outputs": [],
   "source": [
    "plot_sbc_ecdf(theta_pred_sbc, true_theta)"
   ]
  }
 ],
 "metadata": {
  "kernelspec": {
   "display_name": "Python 3 (ipykernel)",
   "language": "python",
   "name": "python3"
  },
  "language_info": {
   "codemirror_mode": {
    "name": "ipython",
    "version": 3
   },
   "file_extension": ".py",
   "mimetype": "text/x-python",
   "name": "python",
   "nbconvert_exporter": "python",
   "pygments_lexer": "ipython3",
   "version": "3.9.13"
  },
  "vscode": {
   "interpreter": {
    "hash": "c85bf36f462aee8672315966a66dd5e91fa71003ac562e7969aa481cd7b291c2"
   }
  }
 },
 "nbformat": 4,
 "nbformat_minor": 2
}
